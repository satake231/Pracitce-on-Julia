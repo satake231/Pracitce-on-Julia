{
 "cells": [
  {
   "cell_type": "code",
   "execution_count": 3,
   "metadata": {},
   "outputs": [
    {
     "name": "stderr",
     "output_type": "stream",
     "text": [
      "\u001b[32m\u001b[1m    Updating\u001b[22m\u001b[39m registry at `C:\\Users\\r1ryo\\.julia\\registries\\General.toml`\n",
      "\u001b[32m\u001b[1m   Resolving\u001b[22m\u001b[39m package versions...\n",
      "\u001b[32m\u001b[1m    Updating\u001b[22m\u001b[39m `C:\\Users\\r1ryo\\.julia\\environments\\v1.8\\Project.toml`\n",
      " \u001b[90m [2913bbd2] \u001b[39m\u001b[92m+ StatsBase v0.33.21\u001b[39m\n",
      "\u001b[32m\u001b[1m  No Changes\u001b[22m\u001b[39m to `C:\\Users\\r1ryo\\.julia\\environments\\v1.8\\Manifest.toml`\n"
     ]
    }
   ],
   "source": [
    "import Pkg; Pkg.add(\"StatsBase\")"
   ]
  },
  {
   "cell_type": "code",
   "execution_count": 7,
   "metadata": {},
   "outputs": [
    {
     "ename": "LoadError",
     "evalue": "UndefVarError: int not defined",
     "output_type": "error",
     "traceback": [
      "UndefVarError: int not defined",
      "",
      "Stacktrace:",
      " [1] top-level scope",
      "   @ In[7]:5"
     ]
    }
   ],
   "source": [
    "data = reduce((sum,a) -> vcat(sum,a), [repeat([d[1]],inner=[d[2]]) for d = [(1,43), (2,179), (3,238), (4,38), (5,2)]])\n",
    "\n",
    "#[度数]\n",
    "##Baseパッケージ\n",
    "x = hist(data, int(ceil(1 + log2(length(data))))) # => (0.0:1.0:5.0,[43,179,238,38,2])\n",
    "using StatsBase\n",
    "x = counts(data, minimum(data):maximum(data)) # =>  [43, 179, 238, 38, 2]\n",
    "\n",
    "#[相対度数]\n",
    "using StatsBase\n",
    "x = proportions(data, minimum(data):maximum(data)) # =>  [0.086, 0.358, 0.476, 0.076, 0.004]\n",
    "\n",
    "#[平均値]\n",
    "##算術平均\n",
    "x = mean(data) # => 2.554\n",
    "##幾何平均\n",
    "using StatsBase\n",
    "x = geomean([1.218, 1.305, 1.536, 1.500, 1.129]) # => 1.3282714663720916\n",
    "##調和平均\n",
    "using StatsBase\n",
    "x = harmmean([25, 15]) # => 18.75\n",
    "\n",
    "#[中央値]\n",
    "x = median(data) # => 3.0\n",
    "\n",
    "#[最頻値]\n",
    "x = mode(data) # => 3\n",
    "\n",
    "#[ミッド・レンジ]\n",
    "x = (maximum(data) - minimum(data)) / 2 # => 2.0\n",
    "\n",
    "#[分位点]\n",
    "x = quantile(data, 1/4) # => 2.0\n",
    "\n",
    "#[分散]\n",
    "x = var(data) # => 0.5962765531062114\n",
    "\n",
    "#[標準偏差]\n",
    "x = std(data) # => 0.7721894541537144"
   ]
  }
 ],
 "metadata": {
  "kernelspec": {
   "display_name": "Julia 1.8.3",
   "language": "julia",
   "name": "julia-1.8"
  },
  "language_info": {
   "file_extension": ".jl",
   "mimetype": "application/julia",
   "name": "julia",
   "version": "1.8.3"
  },
  "orig_nbformat": 4,
  "vscode": {
   "interpreter": {
    "hash": "3cdf9bb70e052ceb08a973761fc0a04ec806d2e591685550649c48aa8b1bdd4b"
   }
  }
 },
 "nbformat": 4,
 "nbformat_minor": 2
}
