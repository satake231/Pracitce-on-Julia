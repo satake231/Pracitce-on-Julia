{
 "cells": [
  {
   "cell_type": "code",
   "execution_count": 2,
   "metadata": {},
   "outputs": [
    {
     "data": {
      "text/plain": [
       "f (generic function with 1 method)"
      ]
     },
     "execution_count": 2,
     "metadata": {},
     "output_type": "execute_result"
    }
   ],
   "source": [
    "#using Flux.Tracker\n",
    "using Flux\n",
    "f(x) = 3x^2 + 2x + 1"
   ]
  },
  {
   "cell_type": "code",
   "execution_count": 3,
   "metadata": {},
   "outputs": [
    {
     "data": {
      "text/plain": [
       "f′ (generic function with 1 method)"
      ]
     },
     "execution_count": 3,
     "metadata": {},
     "output_type": "execute_result"
    }
   ],
   "source": [
    "#f′(x) = Tracker.gradient(f, x; nest = true)[1]\n",
    "f′(x) = gradient(f, x)[1]"
   ]
  },
  {
   "cell_type": "code",
   "execution_count": 7,
   "metadata": {},
   "outputs": [
    {
     "data": {
      "text/plain": [
       "14.0"
      ]
     },
     "execution_count": 7,
     "metadata": {},
     "output_type": "execute_result"
    }
   ],
   "source": [
    "f′(2)"
   ]
  },
  {
   "cell_type": "code",
   "execution_count": 8,
   "metadata": {},
   "outputs": [
    {
     "data": {
      "text/plain": [
       "f′′ (generic function with 1 method)"
      ]
     },
     "execution_count": 8,
     "metadata": {},
     "output_type": "execute_result"
    }
   ],
   "source": [
    "f′′(x) = gradient(f′, x)[1]\n",
    "#f′′(x) = Tracker.gradient(f′, x; nest = true)[1]"
   ]
  },
  {
   "cell_type": "code",
   "execution_count": 9,
   "metadata": {},
   "outputs": [
    {
     "data": {
      "text/plain": [
       "6.0"
      ]
     },
     "execution_count": 9,
     "metadata": {},
     "output_type": "execute_result"
    }
   ],
   "source": [
    "f′′(2)"
   ]
  },
  {
   "cell_type": "code",
   "execution_count": 17,
   "metadata": {},
   "outputs": [
    {
     "data": {
      "text/plain": [
       "100-element Vector{Float64}:\n",
       "  0.9991858150432145\n",
       "  3.0349746014923333\n",
       "  4.932795573051239\n",
       "  5.400528664901342\n",
       "  4.034207705377236\n",
       "  1.5677626380561165\n",
       " -0.5807147456717985\n",
       " -1.1856714314316843\n",
       "  0.028238591025274484\n",
       "  2.215928380041441\n",
       "  3.9343324094524097\n",
       "  4.034546595162067\n",
       "  2.3721101926264203\n",
       "  ⋮\n",
       " 13.367879928495402\n",
       " 13.510089985209987\n",
       " 12.03411019822326\n",
       " 10.088844651631335\n",
       "  9.117358871598618\n",
       "  9.964739799782746\n",
       " 12.355641425934905\n",
       " 15.064510735680265\n",
       " 16.673255937628614\n",
       " 16.447947088202753\n",
       " 14.79255035906809\n",
       " 12.999185815043214"
      ]
     },
     "execution_count": 17,
     "metadata": {},
     "output_type": "execute_result"
    }
   ],
   "source": [
    "n = 100\n",
    "x0 = range(-2,length=n,stop=2) #Julia 1.0.0以降はlinspaceではなくこの書き方になった。\n",
    "a0 = 3.0\n",
    "a1= 2.0\n",
    "b0 = 1.0\n",
    "y0 = zeros(Float32,n)\n",
    "f(x0) = a0.*x0 .+ a1.*x0.^2 .+ b0 .+ 3*cos.(20*x0)\n",
    "y0[:] = f.(x0)"
   ]
  },
  {
   "cell_type": "code",
   "execution_count": 18,
   "metadata": {},
   "outputs": [
    {
     "data": {
      "text/plain": [
       "4×100 Matrix{Float32}:\n",
       "  1.0   1.0       1.0       1.0      …  1.0      1.0      1.0      1.0\n",
       " -2.0  -1.9596   -1.91919  -1.87879     1.87879  1.91919  1.9596   2.0\n",
       "  4.0   3.84002   3.6833    3.52984     3.52984  3.6833   3.84002  4.0\n",
       " -8.0  -7.52488  -7.06895  -6.63183     6.63183  7.06895  7.52488  8.0"
      ]
     },
     "execution_count": 18,
     "metadata": {},
     "output_type": "execute_result"
    }
   ],
   "source": [
    "function make_φ(x0,n,k)\n",
    "    φ = zeros(Float32,k,n)\n",
    "    for i in 1:k\n",
    "        φ[i,:] = x0.^(i-1)\n",
    "    end\n",
    "    return φ\n",
    "end\n",
    "k = 4\n",
    "φ = make_φ(x0,n,k)"
   ]
  },
  {
   "cell_type": "code",
   "execution_count": 19,
   "metadata": {},
   "outputs": [
    {
     "data": {
      "text/plain": [
       "Dense(4 => 1)       \u001b[90m# 5 parameters\u001b[39m"
      ]
     },
     "execution_count": 19,
     "metadata": {},
     "output_type": "execute_result"
    }
   ],
   "source": [
    "using Flux\n",
    "model = Dense(k, 1) #モデルの生成。W*x + b : W[1,k],b[1]"
   ]
  },
  {
   "cell_type": "code",
   "execution_count": 20,
   "metadata": {},
   "outputs": [
    {
     "name": "stdout",
     "output_type": "stream",
     "text": [
      "W = Float32[0.34396064 1.0146835 0.97817403 -0.2188078]\n",
      "b = Float32[0.0]\n"
     ]
    }
   ],
   "source": [
    "println(\"W = \",model.weight)\n",
    "println(\"b = \",model.bias)"
   ]
  },
  {
   "cell_type": "code",
   "execution_count": 21,
   "metadata": {},
   "outputs": [
    {
     "data": {
      "text/plain": [
       "loss (generic function with 1 method)"
      ]
     },
     "execution_count": 21,
     "metadata": {},
     "output_type": "execute_result"
    }
   ],
   "source": [
    "loss(x, y) = Flux.mse(model(x), y) #loss関数。mseは平均二乗誤差"
   ]
  },
  {
   "cell_type": "code",
   "execution_count": 22,
   "metadata": {},
   "outputs": [
    {
     "data": {
      "text/plain": [
       "Adam(0.001, (0.9, 0.999), 1.0e-8, IdDict{Any, Any}())"
      ]
     },
     "execution_count": 22,
     "metadata": {},
     "output_type": "execute_result"
    }
   ],
   "source": [
    "opt = ADAM() #最適化に使う関数。ここではADAMを使用。"
   ]
  },
  {
   "cell_type": "code",
   "execution_count": 23,
   "metadata": {},
   "outputs": [
    {
     "data": {
      "text/plain": [
       "make_random_batch (generic function with 1 method)"
      ]
     },
     "execution_count": 23,
     "metadata": {},
     "output_type": "execute_result"
    }
   ],
   "source": [
    "function make_random_batch(x,y,batchsize)\n",
    "    numofdata = length(y)\n",
    "    A = rand(1:numofdata,batchsize) #インデックスをシャッフル\n",
    "    data = []\n",
    "    for i=1:batchsize\n",
    "        push!(data,(x[:,A[i]],y[A[i]])) #ランダムバッチを作成。 [(x1,y1),(x2,y2),...]という形式\n",
    "    end\n",
    "    return data\n",
    "end"
   ]
  },
  {
   "cell_type": "code",
   "execution_count": 24,
   "metadata": {},
   "outputs": [
    {
     "name": "stdout",
     "output_type": "stream",
     "text": [
      "100-th loss = 5.376166538172401\n",
      "200-th loss = 4.823369984702586\n",
      "300-th loss = 4.697969341681274\n",
      "400-th loss = 4.64426196161689\n",
      "500-th loss = 4.5774700608899\n",
      "600-th loss = 4.546772985983407\n",
      "700-th loss = 4.522339414445451\n",
      "800-th loss = 4.503736342129851\n",
      "900-th loss = 4.488843464651836\n",
      "1000-th loss = 4.4801671951281605\n",
      "1100-th loss = 4.470240224124864\n",
      "1200-th loss = 4.468897635175381\n",
      "1300-th loss = 4.460274537689984\n",
      "1400-th loss = 4.4686064739828\n",
      "1500-th loss = 4.458631910589756\n",
      "1600-th loss = 4.453404404809699\n",
      "1700-th loss = 4.454203595309519\n",
      "1800-th loss = 4.452107963515446\n",
      "1900-th loss = 4.45811853242456\n",
      "2000-th loss = 4.453244903039595\n",
      "Float32[0.6354442 2.9462705 2.0333967 0.029079903]\n",
      "Float32[0.2914821]\n"
     ]
    },
    {
     "data": {
      "image/svg+xml": "<?xml version=\"1.0\" encoding=\"utf-8\"?>\n<svg xmlns=\"http://www.w3.org/2000/svg\" xmlns:xlink=\"http://www.w3.org/1999/xlink\" width=\"600\" height=\"400\" viewBox=\"0 0 2400 1600\">\n<defs>\n  <clipPath id=\"clip670\">\n    <rect x=\"0\" y=\"0\" width=\"2400\" height=\"1600\"/>\n  </clipPath>\n</defs>\n<path clip-path=\"url(#clip670)\" d=\"\nM0 1600 L2400 1600 L2400 0 L0 0  Z\n  \" fill=\"#ffffff\" fill-rule=\"evenodd\" fill-opacity=\"1\"/>\n<defs>\n  <clipPath id=\"clip671\">\n    <rect x=\"480\" y=\"0\" width=\"1681\" height=\"1600\"/>\n  </clipPath>\n</defs>\n<path clip-path=\"url(#clip670)\" d=\"\nM138.959 1486.45 L2352.76 1486.45 L2352.76 47.2441 L138.959 47.2441  Z\n  \" fill=\"#ffffff\" fill-rule=\"evenodd\" fill-opacity=\"1\"/>\n<defs>\n  <clipPath id=\"clip672\">\n    <rect x=\"138\" y=\"47\" width=\"2215\" height=\"1440\"/>\n  </clipPath>\n</defs>\n<polyline clip-path=\"url(#clip672)\" style=\"stroke:#000000; stroke-linecap:round; stroke-linejoin:round; stroke-width:2; stroke-opacity:0.1; fill:none\" points=\"\n  201.614,1486.45 201.614,47.2441 \n  \"/>\n<polyline clip-path=\"url(#clip672)\" style=\"stroke:#000000; stroke-linecap:round; stroke-linejoin:round; stroke-width:2; stroke-opacity:0.1; fill:none\" points=\"\n  723.736,1486.45 723.736,47.2441 \n  \"/>\n<polyline clip-path=\"url(#clip672)\" style=\"stroke:#000000; stroke-linecap:round; stroke-linejoin:round; stroke-width:2; stroke-opacity:0.1; fill:none\" points=\"\n  1245.86,1486.45 1245.86,47.2441 \n  \"/>\n<polyline clip-path=\"url(#clip672)\" style=\"stroke:#000000; stroke-linecap:round; stroke-linejoin:round; stroke-width:2; stroke-opacity:0.1; fill:none\" points=\"\n  1767.98,1486.45 1767.98,47.2441 \n  \"/>\n<polyline clip-path=\"url(#clip672)\" style=\"stroke:#000000; stroke-linecap:round; stroke-linejoin:round; stroke-width:2; stroke-opacity:0.1; fill:none\" points=\"\n  2290.1,1486.45 2290.1,47.2441 \n  \"/>\n<polyline clip-path=\"url(#clip670)\" style=\"stroke:#000000; stroke-linecap:round; stroke-linejoin:round; stroke-width:4; stroke-opacity:1; fill:none\" points=\"\n  138.959,1486.45 2352.76,1486.45 \n  \"/>\n<polyline clip-path=\"url(#clip670)\" style=\"stroke:#000000; stroke-linecap:round; stroke-linejoin:round; stroke-width:4; stroke-opacity:1; fill:none\" points=\"\n  201.614,1486.45 201.614,1467.55 \n  \"/>\n<polyline clip-path=\"url(#clip670)\" style=\"stroke:#000000; stroke-linecap:round; stroke-linejoin:round; stroke-width:4; stroke-opacity:1; fill:none\" points=\"\n  723.736,1486.45 723.736,1467.55 \n  \"/>\n<polyline clip-path=\"url(#clip670)\" style=\"stroke:#000000; stroke-linecap:round; stroke-linejoin:round; stroke-width:4; stroke-opacity:1; fill:none\" points=\"\n  1245.86,1486.45 1245.86,1467.55 \n  \"/>\n<polyline clip-path=\"url(#clip670)\" style=\"stroke:#000000; stroke-linecap:round; stroke-linejoin:round; stroke-width:4; stroke-opacity:1; fill:none\" points=\"\n  1767.98,1486.45 1767.98,1467.55 \n  \"/>\n<polyline clip-path=\"url(#clip670)\" style=\"stroke:#000000; stroke-linecap:round; stroke-linejoin:round; stroke-width:4; stroke-opacity:1; fill:none\" points=\"\n  2290.1,1486.45 2290.1,1467.55 \n  \"/>\n<path clip-path=\"url(#clip670)\" d=\"M171.556 1532.02 L201.232 1532.02 L201.232 1535.95 L171.556 1535.95 L171.556 1532.02 Z\" fill=\"#000000\" fill-rule=\"evenodd\" fill-opacity=\"1\" /><path clip-path=\"url(#clip670)\" d=\"M215.352 1544.91 L231.672 1544.91 L231.672 1548.85 L209.727 1548.85 L209.727 1544.91 Q212.389 1542.16 216.973 1537.53 Q221.579 1532.88 222.76 1531.53 Q225.005 1529.01 225.885 1527.27 Q226.788 1525.51 226.788 1523.82 Q226.788 1521.07 224.843 1519.33 Q222.922 1517.6 219.82 1517.6 Q217.621 1517.6 215.167 1518.36 Q212.737 1519.13 209.959 1520.68 L209.959 1515.95 Q212.783 1514.82 215.237 1514.24 Q217.69 1513.66 219.727 1513.66 Q225.098 1513.66 228.292 1516.35 Q231.487 1519.03 231.487 1523.52 Q231.487 1525.65 230.676 1527.57 Q229.889 1529.47 227.783 1532.07 Q227.204 1532.74 224.102 1535.95 Q221.001 1539.15 215.352 1544.91 Z\" fill=\"#000000\" fill-rule=\"evenodd\" fill-opacity=\"1\" /><path clip-path=\"url(#clip670)\" d=\"M693.493 1532.02 L723.169 1532.02 L723.169 1535.95 L693.493 1535.95 L693.493 1532.02 Z\" fill=\"#000000\" fill-rule=\"evenodd\" fill-opacity=\"1\" /><path clip-path=\"url(#clip670)\" d=\"M734.071 1544.91 L741.71 1544.91 L741.71 1518.55 L733.4 1520.21 L733.4 1515.95 L741.664 1514.29 L746.34 1514.29 L746.34 1544.91 L753.979 1544.91 L753.979 1548.85 L734.071 1548.85 L734.071 1544.91 Z\" fill=\"#000000\" fill-rule=\"evenodd\" fill-opacity=\"1\" /><path clip-path=\"url(#clip670)\" d=\"M1245.86 1517.37 Q1242.25 1517.37 1240.42 1520.93 Q1238.61 1524.47 1238.61 1531.6 Q1238.61 1538.71 1240.42 1542.27 Q1242.25 1545.82 1245.86 1545.82 Q1249.49 1545.82 1251.3 1542.27 Q1253.13 1538.71 1253.13 1531.6 Q1253.13 1524.47 1251.3 1520.93 Q1249.49 1517.37 1245.86 1517.37 M1245.86 1513.66 Q1251.67 1513.66 1254.72 1518.27 Q1257.8 1522.85 1257.8 1531.6 Q1257.8 1540.33 1254.72 1544.94 Q1251.67 1549.52 1245.86 1549.52 Q1240.05 1549.52 1236.97 1544.94 Q1233.91 1540.33 1233.91 1531.6 Q1233.91 1522.85 1236.97 1518.27 Q1240.05 1513.66 1245.86 1513.66 Z\" fill=\"#000000\" fill-rule=\"evenodd\" fill-opacity=\"1\" /><path clip-path=\"url(#clip670)\" d=\"M1758.36 1544.91 L1766 1544.91 L1766 1518.55 L1757.69 1520.21 L1757.69 1515.95 L1765.95 1514.29 L1770.63 1514.29 L1770.63 1544.91 L1778.27 1544.91 L1778.27 1548.85 L1758.36 1548.85 L1758.36 1544.91 Z\" fill=\"#000000\" fill-rule=\"evenodd\" fill-opacity=\"1\" /><path clip-path=\"url(#clip670)\" d=\"M2284.75 1544.91 L2301.07 1544.91 L2301.07 1548.85 L2279.13 1548.85 L2279.13 1544.91 Q2281.79 1542.16 2286.37 1537.53 Q2290.98 1532.88 2292.16 1531.53 Q2294.41 1529.01 2295.29 1527.27 Q2296.19 1525.51 2296.19 1523.82 Q2296.19 1521.07 2294.24 1519.33 Q2292.32 1517.6 2289.22 1517.6 Q2287.02 1517.6 2284.57 1518.36 Q2282.14 1519.13 2279.36 1520.68 L2279.36 1515.95 Q2282.18 1514.82 2284.64 1514.24 Q2287.09 1513.66 2289.13 1513.66 Q2294.5 1513.66 2297.69 1516.35 Q2300.89 1519.03 2300.89 1523.52 Q2300.89 1525.65 2300.08 1527.57 Q2299.29 1529.47 2297.18 1532.07 Q2296.61 1532.74 2293.5 1535.95 Q2290.4 1539.15 2284.75 1544.91 Z\" fill=\"#000000\" fill-rule=\"evenodd\" fill-opacity=\"1\" /><polyline clip-path=\"url(#clip672)\" style=\"stroke:#000000; stroke-linecap:round; stroke-linejoin:round; stroke-width:2; stroke-opacity:0.1; fill:none\" points=\"\n  138.959,1231.79 2352.76,1231.79 \n  \"/>\n<polyline clip-path=\"url(#clip672)\" style=\"stroke:#000000; stroke-linecap:round; stroke-linejoin:round; stroke-width:2; stroke-opacity:0.1; fill:none\" points=\"\n  138.959,888.779 2352.76,888.779 \n  \"/>\n<polyline clip-path=\"url(#clip672)\" style=\"stroke:#000000; stroke-linecap:round; stroke-linejoin:round; stroke-width:2; stroke-opacity:0.1; fill:none\" points=\"\n  138.959,545.771 2352.76,545.771 \n  \"/>\n<polyline clip-path=\"url(#clip672)\" style=\"stroke:#000000; stroke-linecap:round; stroke-linejoin:round; stroke-width:2; stroke-opacity:0.1; fill:none\" points=\"\n  138.959,202.764 2352.76,202.764 \n  \"/>\n<polyline clip-path=\"url(#clip670)\" style=\"stroke:#000000; stroke-linecap:round; stroke-linejoin:round; stroke-width:4; stroke-opacity:1; fill:none\" points=\"\n  138.959,1486.45 138.959,47.2441 \n  \"/>\n<polyline clip-path=\"url(#clip670)\" style=\"stroke:#000000; stroke-linecap:round; stroke-linejoin:round; stroke-width:4; stroke-opacity:1; fill:none\" points=\"\n  138.959,1231.79 157.857,1231.79 \n  \"/>\n<polyline clip-path=\"url(#clip670)\" style=\"stroke:#000000; stroke-linecap:round; stroke-linejoin:round; stroke-width:4; stroke-opacity:1; fill:none\" points=\"\n  138.959,888.779 157.857,888.779 \n  \"/>\n<polyline clip-path=\"url(#clip670)\" style=\"stroke:#000000; stroke-linecap:round; stroke-linejoin:round; stroke-width:4; stroke-opacity:1; fill:none\" points=\"\n  138.959,545.771 157.857,545.771 \n  \"/>\n<polyline clip-path=\"url(#clip670)\" style=\"stroke:#000000; stroke-linecap:round; stroke-linejoin:round; stroke-width:4; stroke-opacity:1; fill:none\" points=\"\n  138.959,202.764 157.857,202.764 \n  \"/>\n<path clip-path=\"url(#clip670)\" d=\"M91.0151 1217.58 Q87.404 1217.58 85.5753 1221.15 Q83.7697 1224.69 83.7697 1231.82 Q83.7697 1238.93 85.5753 1242.49 Q87.404 1246.03 91.0151 1246.03 Q94.6493 1246.03 96.4548 1242.49 Q98.2835 1238.93 98.2835 1231.82 Q98.2835 1224.69 96.4548 1221.15 Q94.6493 1217.58 91.0151 1217.58 M91.0151 1213.88 Q96.8252 1213.88 99.8808 1218.49 Q102.959 1223.07 102.959 1231.82 Q102.959 1240.55 99.8808 1245.15 Q96.8252 1249.74 91.0151 1249.74 Q85.2049 1249.74 82.1262 1245.15 Q79.0707 1240.55 79.0707 1231.82 Q79.0707 1223.07 82.1262 1218.49 Q85.2049 1213.88 91.0151 1213.88 Z\" fill=\"#000000\" fill-rule=\"evenodd\" fill-opacity=\"1\" /><path clip-path=\"url(#clip670)\" d=\"M82.0568 871.499 L100.413 871.499 L100.413 875.434 L86.3392 875.434 L86.3392 883.906 Q87.3577 883.559 88.3762 883.397 Q89.3947 883.212 90.4132 883.212 Q96.2002 883.212 99.5798 886.383 Q102.959 889.554 102.959 894.971 Q102.959 900.55 99.4872 903.651 Q96.015 906.73 89.6956 906.73 Q87.5197 906.73 85.2512 906.36 Q83.0058 905.989 80.5984 905.249 L80.5984 900.55 Q82.6818 901.684 84.904 902.239 Q87.1262 902.795 89.603 902.795 Q93.6076 902.795 95.9456 900.688 Q98.2835 898.582 98.2835 894.971 Q98.2835 891.36 95.9456 889.253 Q93.6076 887.147 89.603 887.147 Q87.728 887.147 85.8531 887.564 Q84.0012 887.98 82.0568 888.86 L82.0568 871.499 Z\" fill=\"#000000\" fill-rule=\"evenodd\" fill-opacity=\"1\" /><path clip-path=\"url(#clip670)\" d=\"M51.6634 559.116 L59.3023 559.116 L59.3023 532.751 L50.9921 534.417 L50.9921 530.158 L59.256 528.491 L63.9319 528.491 L63.9319 559.116 L71.5707 559.116 L71.5707 563.051 L51.6634 563.051 L51.6634 559.116 Z\" fill=\"#000000\" fill-rule=\"evenodd\" fill-opacity=\"1\" /><path clip-path=\"url(#clip670)\" d=\"M91.0151 531.57 Q87.404 531.57 85.5753 535.135 Q83.7697 538.677 83.7697 545.806 Q83.7697 552.913 85.5753 556.477 Q87.404 560.019 91.0151 560.019 Q94.6493 560.019 96.4548 556.477 Q98.2835 552.913 98.2835 545.806 Q98.2835 538.677 96.4548 535.135 Q94.6493 531.57 91.0151 531.57 M91.0151 527.866 Q96.8252 527.866 99.8808 532.473 Q102.959 537.056 102.959 545.806 Q102.959 554.533 99.8808 559.139 Q96.8252 563.723 91.0151 563.723 Q85.2049 563.723 82.1262 559.139 Q79.0707 554.533 79.0707 545.806 Q79.0707 537.056 82.1262 532.473 Q85.2049 527.866 91.0151 527.866 Z\" fill=\"#000000\" fill-rule=\"evenodd\" fill-opacity=\"1\" /><path clip-path=\"url(#clip670)\" d=\"M52.6588 216.109 L60.2976 216.109 L60.2976 189.743 L51.9875 191.41 L51.9875 187.151 L60.2513 185.484 L64.9272 185.484 L64.9272 216.109 L72.5661 216.109 L72.5661 220.044 L52.6588 220.044 L52.6588 216.109 Z\" fill=\"#000000\" fill-rule=\"evenodd\" fill-opacity=\"1\" /><path clip-path=\"url(#clip670)\" d=\"M82.0568 185.484 L100.413 185.484 L100.413 189.419 L86.3392 189.419 L86.3392 197.891 Q87.3577 197.544 88.3762 197.382 Q89.3947 197.197 90.4132 197.197 Q96.2002 197.197 99.5798 200.368 Q102.959 203.54 102.959 208.956 Q102.959 214.535 99.4872 217.637 Q96.015 220.715 89.6956 220.715 Q87.5197 220.715 85.2512 220.345 Q83.0058 219.975 80.5984 219.234 L80.5984 214.535 Q82.6818 215.669 84.904 216.225 Q87.1262 216.78 89.603 216.78 Q93.6076 216.78 95.9456 214.674 Q98.2835 212.567 98.2835 208.956 Q98.2835 205.345 95.9456 203.239 Q93.6076 201.132 89.603 201.132 Q87.728 201.132 85.8531 201.549 Q84.0012 201.965 82.0568 202.845 L82.0568 185.484 Z\" fill=\"#000000\" fill-rule=\"evenodd\" fill-opacity=\"1\" /><polyline clip-path=\"url(#clip672)\" style=\"stroke:#009af9; stroke-linecap:round; stroke-linejoin:round; stroke-width:4; stroke-opacity:1; fill:none\" points=\"\n  201.614,1163.24 222.71,1023.58 243.806,893.389 264.902,861.302 285.997,955.034 307.093,1124.24 328.189,1271.62 349.285,1313.12 370.381,1229.85 391.477,1079.77 \n  412.572,961.885 433.668,955.01 454.764,1069.06 475.86,1238.9 496.956,1364.64 518.052,1373.38 539.147,1264.26 560.243,1109.02 581.339,1007.63 602.435,1026.5 \n  623.531,1157.4 644.627,1322.57 665.722,1422.8 686.818,1398.73 707.914,1267.58 729.01,1112.49 750.106,1031.12 771.201,1075.29 792.297,1218.91 813.393,1374.15 \n  834.489,1445.72 855.585,1389.75 876.681,1240.98 897.776,1091.22 918.872,1032.63 939.968,1100.71 961.064,1252.4 982.16,1392.64 1003.26,1433.21 1024.35,1347.19 \n  1045.45,1185.69 1066.54,1046.16 1087.64,1012.22 1108.73,1101.94 1129.83,1256.63 1150.93,1377.19 1172.02,1385.33 1193.12,1271.98 1214.21,1102.91 1235.31,978.053 \n  1256.41,969.738 1277.5,1077.96 1298.6,1230.4 1319.69,1327.12 1340.79,1302.35 1361.88,1165.16 1382.98,993.836 1404.08,887.493 1425.17,904.797 1446.27,1027.69 \n  1467.36,1172.57 1488.46,1241.95 1509.56,1184.76 1530.65,1027.88 1551.75,859.569 1572.84,774.855 1593.94,816.819 1615.03,949.946 1636.13,1082.08 1657.23,1121.42 \n  1678.32,1033.23 1699.42,861.352 1720.51,701.096 1741.61,640.299 1762.71,705.037 1783.8,843.5 1804.9,958.022 1825.99,965.461 1847.09,848.601 1868.18,666.792 \n  1889.28,519.261 1910.38,483.766 1931.47,568.526 1952.57,707.136 1973.66,799.625 1994.76,774.256 2015.86,631.88 2036.95,445.406 2058.05,314.73 2079.14,304.974 \n  2100.24,406.229 2121.33,539.677 2142.43,606.322 2163.53,548.19 2184.62,384.171 2205.72,198.339 2226.81,87.9763 2247.91,103.433 2269.01,216.995 2290.1,340.023 \n  \n  \"/>\n<circle clip-path=\"url(#clip672)\" cx=\"201.614\" cy=\"1163.24\" r=\"14.4\" fill=\"#009af9\" fill-rule=\"evenodd\" fill-opacity=\"1\" stroke=\"#000000\" stroke-opacity=\"1\" stroke-width=\"3.2\"/>\n<circle clip-path=\"url(#clip672)\" cx=\"222.71\" cy=\"1023.58\" r=\"14.4\" fill=\"#009af9\" fill-rule=\"evenodd\" fill-opacity=\"1\" stroke=\"#000000\" stroke-opacity=\"1\" stroke-width=\"3.2\"/>\n<circle clip-path=\"url(#clip672)\" cx=\"243.806\" cy=\"893.389\" r=\"14.4\" fill=\"#009af9\" fill-rule=\"evenodd\" fill-opacity=\"1\" stroke=\"#000000\" stroke-opacity=\"1\" stroke-width=\"3.2\"/>\n<circle clip-path=\"url(#clip672)\" cx=\"264.902\" cy=\"861.302\" r=\"14.4\" fill=\"#009af9\" fill-rule=\"evenodd\" fill-opacity=\"1\" stroke=\"#000000\" stroke-opacity=\"1\" stroke-width=\"3.2\"/>\n<circle clip-path=\"url(#clip672)\" cx=\"285.997\" cy=\"955.034\" r=\"14.4\" fill=\"#009af9\" fill-rule=\"evenodd\" fill-opacity=\"1\" stroke=\"#000000\" stroke-opacity=\"1\" stroke-width=\"3.2\"/>\n<circle clip-path=\"url(#clip672)\" cx=\"307.093\" cy=\"1124.24\" r=\"14.4\" fill=\"#009af9\" fill-rule=\"evenodd\" fill-opacity=\"1\" stroke=\"#000000\" stroke-opacity=\"1\" stroke-width=\"3.2\"/>\n<circle clip-path=\"url(#clip672)\" cx=\"328.189\" cy=\"1271.62\" r=\"14.4\" fill=\"#009af9\" fill-rule=\"evenodd\" fill-opacity=\"1\" stroke=\"#000000\" stroke-opacity=\"1\" stroke-width=\"3.2\"/>\n<circle clip-path=\"url(#clip672)\" cx=\"349.285\" cy=\"1313.12\" r=\"14.4\" fill=\"#009af9\" fill-rule=\"evenodd\" fill-opacity=\"1\" stroke=\"#000000\" stroke-opacity=\"1\" stroke-width=\"3.2\"/>\n<circle clip-path=\"url(#clip672)\" cx=\"370.381\" cy=\"1229.85\" r=\"14.4\" fill=\"#009af9\" fill-rule=\"evenodd\" fill-opacity=\"1\" stroke=\"#000000\" stroke-opacity=\"1\" stroke-width=\"3.2\"/>\n<circle clip-path=\"url(#clip672)\" cx=\"391.477\" cy=\"1079.77\" r=\"14.4\" fill=\"#009af9\" fill-rule=\"evenodd\" fill-opacity=\"1\" stroke=\"#000000\" stroke-opacity=\"1\" stroke-width=\"3.2\"/>\n<circle clip-path=\"url(#clip672)\" cx=\"412.572\" cy=\"961.885\" r=\"14.4\" fill=\"#009af9\" fill-rule=\"evenodd\" fill-opacity=\"1\" stroke=\"#000000\" stroke-opacity=\"1\" stroke-width=\"3.2\"/>\n<circle clip-path=\"url(#clip672)\" cx=\"433.668\" cy=\"955.01\" r=\"14.4\" fill=\"#009af9\" fill-rule=\"evenodd\" fill-opacity=\"1\" stroke=\"#000000\" stroke-opacity=\"1\" stroke-width=\"3.2\"/>\n<circle clip-path=\"url(#clip672)\" cx=\"454.764\" cy=\"1069.06\" r=\"14.4\" fill=\"#009af9\" fill-rule=\"evenodd\" fill-opacity=\"1\" stroke=\"#000000\" stroke-opacity=\"1\" stroke-width=\"3.2\"/>\n<circle clip-path=\"url(#clip672)\" cx=\"475.86\" cy=\"1238.9\" r=\"14.4\" fill=\"#009af9\" fill-rule=\"evenodd\" fill-opacity=\"1\" stroke=\"#000000\" stroke-opacity=\"1\" stroke-width=\"3.2\"/>\n<circle clip-path=\"url(#clip672)\" cx=\"496.956\" cy=\"1364.64\" r=\"14.4\" fill=\"#009af9\" fill-rule=\"evenodd\" fill-opacity=\"1\" stroke=\"#000000\" stroke-opacity=\"1\" stroke-width=\"3.2\"/>\n<circle clip-path=\"url(#clip672)\" cx=\"518.052\" cy=\"1373.38\" r=\"14.4\" fill=\"#009af9\" fill-rule=\"evenodd\" fill-opacity=\"1\" stroke=\"#000000\" stroke-opacity=\"1\" stroke-width=\"3.2\"/>\n<circle clip-path=\"url(#clip672)\" cx=\"539.147\" cy=\"1264.26\" r=\"14.4\" fill=\"#009af9\" fill-rule=\"evenodd\" fill-opacity=\"1\" stroke=\"#000000\" stroke-opacity=\"1\" stroke-width=\"3.2\"/>\n<circle clip-path=\"url(#clip672)\" cx=\"560.243\" cy=\"1109.02\" r=\"14.4\" fill=\"#009af9\" fill-rule=\"evenodd\" fill-opacity=\"1\" stroke=\"#000000\" stroke-opacity=\"1\" stroke-width=\"3.2\"/>\n<circle clip-path=\"url(#clip672)\" cx=\"581.339\" cy=\"1007.63\" r=\"14.4\" fill=\"#009af9\" fill-rule=\"evenodd\" fill-opacity=\"1\" stroke=\"#000000\" stroke-opacity=\"1\" stroke-width=\"3.2\"/>\n<circle clip-path=\"url(#clip672)\" cx=\"602.435\" cy=\"1026.5\" r=\"14.4\" fill=\"#009af9\" fill-rule=\"evenodd\" fill-opacity=\"1\" stroke=\"#000000\" stroke-opacity=\"1\" stroke-width=\"3.2\"/>\n<circle clip-path=\"url(#clip672)\" cx=\"623.531\" cy=\"1157.4\" r=\"14.4\" fill=\"#009af9\" fill-rule=\"evenodd\" fill-opacity=\"1\" stroke=\"#000000\" stroke-opacity=\"1\" stroke-width=\"3.2\"/>\n<circle clip-path=\"url(#clip672)\" cx=\"644.627\" cy=\"1322.57\" r=\"14.4\" fill=\"#009af9\" fill-rule=\"evenodd\" fill-opacity=\"1\" stroke=\"#000000\" stroke-opacity=\"1\" stroke-width=\"3.2\"/>\n<circle clip-path=\"url(#clip672)\" cx=\"665.722\" cy=\"1422.8\" r=\"14.4\" fill=\"#009af9\" fill-rule=\"evenodd\" fill-opacity=\"1\" stroke=\"#000000\" stroke-opacity=\"1\" stroke-width=\"3.2\"/>\n<circle clip-path=\"url(#clip672)\" cx=\"686.818\" cy=\"1398.73\" r=\"14.4\" fill=\"#009af9\" fill-rule=\"evenodd\" fill-opacity=\"1\" stroke=\"#000000\" stroke-opacity=\"1\" stroke-width=\"3.2\"/>\n<circle clip-path=\"url(#clip672)\" cx=\"707.914\" cy=\"1267.58\" r=\"14.4\" fill=\"#009af9\" fill-rule=\"evenodd\" fill-opacity=\"1\" stroke=\"#000000\" stroke-opacity=\"1\" stroke-width=\"3.2\"/>\n<circle clip-path=\"url(#clip672)\" cx=\"729.01\" cy=\"1112.49\" r=\"14.4\" fill=\"#009af9\" fill-rule=\"evenodd\" fill-opacity=\"1\" stroke=\"#000000\" stroke-opacity=\"1\" stroke-width=\"3.2\"/>\n<circle clip-path=\"url(#clip672)\" cx=\"750.106\" cy=\"1031.12\" r=\"14.4\" fill=\"#009af9\" fill-rule=\"evenodd\" fill-opacity=\"1\" stroke=\"#000000\" stroke-opacity=\"1\" stroke-width=\"3.2\"/>\n<circle clip-path=\"url(#clip672)\" cx=\"771.201\" cy=\"1075.29\" r=\"14.4\" fill=\"#009af9\" fill-rule=\"evenodd\" fill-opacity=\"1\" stroke=\"#000000\" stroke-opacity=\"1\" stroke-width=\"3.2\"/>\n<circle clip-path=\"url(#clip672)\" cx=\"792.297\" cy=\"1218.91\" r=\"14.4\" fill=\"#009af9\" fill-rule=\"evenodd\" fill-opacity=\"1\" stroke=\"#000000\" stroke-opacity=\"1\" stroke-width=\"3.2\"/>\n<circle clip-path=\"url(#clip672)\" cx=\"813.393\" cy=\"1374.15\" r=\"14.4\" fill=\"#009af9\" fill-rule=\"evenodd\" fill-opacity=\"1\" stroke=\"#000000\" stroke-opacity=\"1\" stroke-width=\"3.2\"/>\n<circle clip-path=\"url(#clip672)\" cx=\"834.489\" cy=\"1445.72\" r=\"14.4\" fill=\"#009af9\" fill-rule=\"evenodd\" fill-opacity=\"1\" stroke=\"#000000\" stroke-opacity=\"1\" stroke-width=\"3.2\"/>\n<circle clip-path=\"url(#clip672)\" cx=\"855.585\" cy=\"1389.75\" r=\"14.4\" fill=\"#009af9\" fill-rule=\"evenodd\" fill-opacity=\"1\" stroke=\"#000000\" stroke-opacity=\"1\" stroke-width=\"3.2\"/>\n<circle clip-path=\"url(#clip672)\" cx=\"876.681\" cy=\"1240.98\" r=\"14.4\" fill=\"#009af9\" fill-rule=\"evenodd\" fill-opacity=\"1\" stroke=\"#000000\" stroke-opacity=\"1\" stroke-width=\"3.2\"/>\n<circle clip-path=\"url(#clip672)\" cx=\"897.776\" cy=\"1091.22\" r=\"14.4\" fill=\"#009af9\" fill-rule=\"evenodd\" fill-opacity=\"1\" stroke=\"#000000\" stroke-opacity=\"1\" stroke-width=\"3.2\"/>\n<circle clip-path=\"url(#clip672)\" cx=\"918.872\" cy=\"1032.63\" r=\"14.4\" fill=\"#009af9\" fill-rule=\"evenodd\" fill-opacity=\"1\" stroke=\"#000000\" stroke-opacity=\"1\" stroke-width=\"3.2\"/>\n<circle clip-path=\"url(#clip672)\" cx=\"939.968\" cy=\"1100.71\" r=\"14.4\" fill=\"#009af9\" fill-rule=\"evenodd\" fill-opacity=\"1\" stroke=\"#000000\" stroke-opacity=\"1\" stroke-width=\"3.2\"/>\n<circle clip-path=\"url(#clip672)\" cx=\"961.064\" cy=\"1252.4\" r=\"14.4\" fill=\"#009af9\" fill-rule=\"evenodd\" fill-opacity=\"1\" stroke=\"#000000\" stroke-opacity=\"1\" stroke-width=\"3.2\"/>\n<circle clip-path=\"url(#clip672)\" cx=\"982.16\" cy=\"1392.64\" r=\"14.4\" fill=\"#009af9\" fill-rule=\"evenodd\" fill-opacity=\"1\" stroke=\"#000000\" stroke-opacity=\"1\" stroke-width=\"3.2\"/>\n<circle clip-path=\"url(#clip672)\" cx=\"1003.26\" cy=\"1433.21\" r=\"14.4\" fill=\"#009af9\" fill-rule=\"evenodd\" fill-opacity=\"1\" stroke=\"#000000\" stroke-opacity=\"1\" stroke-width=\"3.2\"/>\n<circle clip-path=\"url(#clip672)\" cx=\"1024.35\" cy=\"1347.19\" r=\"14.4\" fill=\"#009af9\" fill-rule=\"evenodd\" fill-opacity=\"1\" stroke=\"#000000\" stroke-opacity=\"1\" stroke-width=\"3.2\"/>\n<circle clip-path=\"url(#clip672)\" cx=\"1045.45\" cy=\"1185.69\" r=\"14.4\" fill=\"#009af9\" fill-rule=\"evenodd\" fill-opacity=\"1\" stroke=\"#000000\" stroke-opacity=\"1\" stroke-width=\"3.2\"/>\n<circle clip-path=\"url(#clip672)\" cx=\"1066.54\" cy=\"1046.16\" r=\"14.4\" fill=\"#009af9\" fill-rule=\"evenodd\" fill-opacity=\"1\" stroke=\"#000000\" stroke-opacity=\"1\" stroke-width=\"3.2\"/>\n<circle clip-path=\"url(#clip672)\" cx=\"1087.64\" cy=\"1012.22\" r=\"14.4\" fill=\"#009af9\" fill-rule=\"evenodd\" fill-opacity=\"1\" stroke=\"#000000\" stroke-opacity=\"1\" stroke-width=\"3.2\"/>\n<circle clip-path=\"url(#clip672)\" cx=\"1108.73\" cy=\"1101.94\" r=\"14.4\" fill=\"#009af9\" fill-rule=\"evenodd\" fill-opacity=\"1\" stroke=\"#000000\" stroke-opacity=\"1\" stroke-width=\"3.2\"/>\n<circle clip-path=\"url(#clip672)\" cx=\"1129.83\" cy=\"1256.63\" r=\"14.4\" fill=\"#009af9\" fill-rule=\"evenodd\" fill-opacity=\"1\" stroke=\"#000000\" stroke-opacity=\"1\" stroke-width=\"3.2\"/>\n<circle clip-path=\"url(#clip672)\" cx=\"1150.93\" cy=\"1377.19\" r=\"14.4\" fill=\"#009af9\" fill-rule=\"evenodd\" fill-opacity=\"1\" stroke=\"#000000\" stroke-opacity=\"1\" stroke-width=\"3.2\"/>\n<circle clip-path=\"url(#clip672)\" cx=\"1172.02\" cy=\"1385.33\" r=\"14.4\" fill=\"#009af9\" fill-rule=\"evenodd\" fill-opacity=\"1\" stroke=\"#000000\" stroke-opacity=\"1\" stroke-width=\"3.2\"/>\n<circle clip-path=\"url(#clip672)\" cx=\"1193.12\" cy=\"1271.98\" r=\"14.4\" fill=\"#009af9\" fill-rule=\"evenodd\" fill-opacity=\"1\" stroke=\"#000000\" stroke-opacity=\"1\" stroke-width=\"3.2\"/>\n<circle clip-path=\"url(#clip672)\" cx=\"1214.21\" cy=\"1102.91\" r=\"14.4\" fill=\"#009af9\" fill-rule=\"evenodd\" fill-opacity=\"1\" stroke=\"#000000\" stroke-opacity=\"1\" stroke-width=\"3.2\"/>\n<circle clip-path=\"url(#clip672)\" cx=\"1235.31\" cy=\"978.053\" r=\"14.4\" fill=\"#009af9\" fill-rule=\"evenodd\" fill-opacity=\"1\" stroke=\"#000000\" stroke-opacity=\"1\" stroke-width=\"3.2\"/>\n<circle clip-path=\"url(#clip672)\" cx=\"1256.41\" cy=\"969.738\" r=\"14.4\" fill=\"#009af9\" fill-rule=\"evenodd\" fill-opacity=\"1\" stroke=\"#000000\" stroke-opacity=\"1\" stroke-width=\"3.2\"/>\n<circle clip-path=\"url(#clip672)\" cx=\"1277.5\" cy=\"1077.96\" r=\"14.4\" fill=\"#009af9\" fill-rule=\"evenodd\" fill-opacity=\"1\" stroke=\"#000000\" stroke-opacity=\"1\" stroke-width=\"3.2\"/>\n<circle clip-path=\"url(#clip672)\" cx=\"1298.6\" cy=\"1230.4\" r=\"14.4\" fill=\"#009af9\" fill-rule=\"evenodd\" fill-opacity=\"1\" stroke=\"#000000\" stroke-opacity=\"1\" stroke-width=\"3.2\"/>\n<circle clip-path=\"url(#clip672)\" cx=\"1319.69\" cy=\"1327.12\" r=\"14.4\" fill=\"#009af9\" fill-rule=\"evenodd\" fill-opacity=\"1\" stroke=\"#000000\" stroke-opacity=\"1\" stroke-width=\"3.2\"/>\n<circle clip-path=\"url(#clip672)\" cx=\"1340.79\" cy=\"1302.35\" r=\"14.4\" fill=\"#009af9\" fill-rule=\"evenodd\" fill-opacity=\"1\" stroke=\"#000000\" stroke-opacity=\"1\" stroke-width=\"3.2\"/>\n<circle clip-path=\"url(#clip672)\" cx=\"1361.88\" cy=\"1165.16\" r=\"14.4\" fill=\"#009af9\" fill-rule=\"evenodd\" fill-opacity=\"1\" stroke=\"#000000\" stroke-opacity=\"1\" stroke-width=\"3.2\"/>\n<circle clip-path=\"url(#clip672)\" cx=\"1382.98\" cy=\"993.836\" r=\"14.4\" fill=\"#009af9\" fill-rule=\"evenodd\" fill-opacity=\"1\" stroke=\"#000000\" stroke-opacity=\"1\" stroke-width=\"3.2\"/>\n<circle clip-path=\"url(#clip672)\" cx=\"1404.08\" cy=\"887.493\" r=\"14.4\" fill=\"#009af9\" fill-rule=\"evenodd\" fill-opacity=\"1\" stroke=\"#000000\" stroke-opacity=\"1\" stroke-width=\"3.2\"/>\n<circle clip-path=\"url(#clip672)\" cx=\"1425.17\" cy=\"904.797\" r=\"14.4\" fill=\"#009af9\" fill-rule=\"evenodd\" fill-opacity=\"1\" stroke=\"#000000\" stroke-opacity=\"1\" stroke-width=\"3.2\"/>\n<circle clip-path=\"url(#clip672)\" cx=\"1446.27\" cy=\"1027.69\" r=\"14.4\" fill=\"#009af9\" fill-rule=\"evenodd\" fill-opacity=\"1\" stroke=\"#000000\" stroke-opacity=\"1\" stroke-width=\"3.2\"/>\n<circle clip-path=\"url(#clip672)\" cx=\"1467.36\" cy=\"1172.57\" r=\"14.4\" fill=\"#009af9\" fill-rule=\"evenodd\" fill-opacity=\"1\" stroke=\"#000000\" stroke-opacity=\"1\" stroke-width=\"3.2\"/>\n<circle clip-path=\"url(#clip672)\" cx=\"1488.46\" cy=\"1241.95\" r=\"14.4\" fill=\"#009af9\" fill-rule=\"evenodd\" fill-opacity=\"1\" stroke=\"#000000\" stroke-opacity=\"1\" stroke-width=\"3.2\"/>\n<circle clip-path=\"url(#clip672)\" cx=\"1509.56\" cy=\"1184.76\" r=\"14.4\" fill=\"#009af9\" fill-rule=\"evenodd\" fill-opacity=\"1\" stroke=\"#000000\" stroke-opacity=\"1\" stroke-width=\"3.2\"/>\n<circle clip-path=\"url(#clip672)\" cx=\"1530.65\" cy=\"1027.88\" r=\"14.4\" fill=\"#009af9\" fill-rule=\"evenodd\" fill-opacity=\"1\" stroke=\"#000000\" stroke-opacity=\"1\" stroke-width=\"3.2\"/>\n<circle clip-path=\"url(#clip672)\" cx=\"1551.75\" cy=\"859.569\" r=\"14.4\" fill=\"#009af9\" fill-rule=\"evenodd\" fill-opacity=\"1\" stroke=\"#000000\" stroke-opacity=\"1\" stroke-width=\"3.2\"/>\n<circle clip-path=\"url(#clip672)\" cx=\"1572.84\" cy=\"774.855\" r=\"14.4\" fill=\"#009af9\" fill-rule=\"evenodd\" fill-opacity=\"1\" stroke=\"#000000\" stroke-opacity=\"1\" stroke-width=\"3.2\"/>\n<circle clip-path=\"url(#clip672)\" cx=\"1593.94\" cy=\"816.819\" r=\"14.4\" fill=\"#009af9\" fill-rule=\"evenodd\" fill-opacity=\"1\" stroke=\"#000000\" stroke-opacity=\"1\" stroke-width=\"3.2\"/>\n<circle clip-path=\"url(#clip672)\" cx=\"1615.03\" cy=\"949.946\" r=\"14.4\" fill=\"#009af9\" fill-rule=\"evenodd\" fill-opacity=\"1\" stroke=\"#000000\" stroke-opacity=\"1\" stroke-width=\"3.2\"/>\n<circle clip-path=\"url(#clip672)\" cx=\"1636.13\" cy=\"1082.08\" r=\"14.4\" fill=\"#009af9\" fill-rule=\"evenodd\" fill-opacity=\"1\" stroke=\"#000000\" stroke-opacity=\"1\" stroke-width=\"3.2\"/>\n<circle clip-path=\"url(#clip672)\" cx=\"1657.23\" cy=\"1121.42\" r=\"14.4\" fill=\"#009af9\" fill-rule=\"evenodd\" fill-opacity=\"1\" stroke=\"#000000\" stroke-opacity=\"1\" stroke-width=\"3.2\"/>\n<circle clip-path=\"url(#clip672)\" cx=\"1678.32\" cy=\"1033.23\" r=\"14.4\" fill=\"#009af9\" fill-rule=\"evenodd\" fill-opacity=\"1\" stroke=\"#000000\" stroke-opacity=\"1\" stroke-width=\"3.2\"/>\n<circle clip-path=\"url(#clip672)\" cx=\"1699.42\" cy=\"861.352\" r=\"14.4\" fill=\"#009af9\" fill-rule=\"evenodd\" fill-opacity=\"1\" stroke=\"#000000\" stroke-opacity=\"1\" stroke-width=\"3.2\"/>\n<circle clip-path=\"url(#clip672)\" cx=\"1720.51\" cy=\"701.096\" r=\"14.4\" fill=\"#009af9\" fill-rule=\"evenodd\" fill-opacity=\"1\" stroke=\"#000000\" stroke-opacity=\"1\" stroke-width=\"3.2\"/>\n<circle clip-path=\"url(#clip672)\" cx=\"1741.61\" cy=\"640.299\" r=\"14.4\" fill=\"#009af9\" fill-rule=\"evenodd\" fill-opacity=\"1\" stroke=\"#000000\" stroke-opacity=\"1\" stroke-width=\"3.2\"/>\n<circle clip-path=\"url(#clip672)\" cx=\"1762.71\" cy=\"705.037\" r=\"14.4\" fill=\"#009af9\" fill-rule=\"evenodd\" fill-opacity=\"1\" stroke=\"#000000\" stroke-opacity=\"1\" stroke-width=\"3.2\"/>\n<circle clip-path=\"url(#clip672)\" cx=\"1783.8\" cy=\"843.5\" r=\"14.4\" fill=\"#009af9\" fill-rule=\"evenodd\" fill-opacity=\"1\" stroke=\"#000000\" stroke-opacity=\"1\" stroke-width=\"3.2\"/>\n<circle clip-path=\"url(#clip672)\" cx=\"1804.9\" cy=\"958.022\" r=\"14.4\" fill=\"#009af9\" fill-rule=\"evenodd\" fill-opacity=\"1\" stroke=\"#000000\" stroke-opacity=\"1\" stroke-width=\"3.2\"/>\n<circle clip-path=\"url(#clip672)\" cx=\"1825.99\" cy=\"965.461\" r=\"14.4\" fill=\"#009af9\" fill-rule=\"evenodd\" fill-opacity=\"1\" stroke=\"#000000\" stroke-opacity=\"1\" stroke-width=\"3.2\"/>\n<circle clip-path=\"url(#clip672)\" cx=\"1847.09\" cy=\"848.601\" r=\"14.4\" fill=\"#009af9\" fill-rule=\"evenodd\" fill-opacity=\"1\" stroke=\"#000000\" stroke-opacity=\"1\" stroke-width=\"3.2\"/>\n<circle clip-path=\"url(#clip672)\" cx=\"1868.18\" cy=\"666.792\" r=\"14.4\" fill=\"#009af9\" fill-rule=\"evenodd\" fill-opacity=\"1\" stroke=\"#000000\" stroke-opacity=\"1\" stroke-width=\"3.2\"/>\n<circle clip-path=\"url(#clip672)\" cx=\"1889.28\" cy=\"519.261\" r=\"14.4\" fill=\"#009af9\" fill-rule=\"evenodd\" fill-opacity=\"1\" stroke=\"#000000\" stroke-opacity=\"1\" stroke-width=\"3.2\"/>\n<circle clip-path=\"url(#clip672)\" cx=\"1910.38\" cy=\"483.766\" r=\"14.4\" fill=\"#009af9\" fill-rule=\"evenodd\" fill-opacity=\"1\" stroke=\"#000000\" stroke-opacity=\"1\" stroke-width=\"3.2\"/>\n<circle clip-path=\"url(#clip672)\" cx=\"1931.47\" cy=\"568.526\" r=\"14.4\" fill=\"#009af9\" fill-rule=\"evenodd\" fill-opacity=\"1\" stroke=\"#000000\" stroke-opacity=\"1\" stroke-width=\"3.2\"/>\n<circle clip-path=\"url(#clip672)\" cx=\"1952.57\" cy=\"707.136\" r=\"14.4\" fill=\"#009af9\" fill-rule=\"evenodd\" fill-opacity=\"1\" stroke=\"#000000\" stroke-opacity=\"1\" stroke-width=\"3.2\"/>\n<circle clip-path=\"url(#clip672)\" cx=\"1973.66\" cy=\"799.625\" r=\"14.4\" fill=\"#009af9\" fill-rule=\"evenodd\" fill-opacity=\"1\" stroke=\"#000000\" stroke-opacity=\"1\" stroke-width=\"3.2\"/>\n<circle clip-path=\"url(#clip672)\" cx=\"1994.76\" cy=\"774.256\" r=\"14.4\" fill=\"#009af9\" fill-rule=\"evenodd\" fill-opacity=\"1\" stroke=\"#000000\" stroke-opacity=\"1\" stroke-width=\"3.2\"/>\n<circle clip-path=\"url(#clip672)\" cx=\"2015.86\" cy=\"631.88\" r=\"14.4\" fill=\"#009af9\" fill-rule=\"evenodd\" fill-opacity=\"1\" stroke=\"#000000\" stroke-opacity=\"1\" stroke-width=\"3.2\"/>\n<circle clip-path=\"url(#clip672)\" cx=\"2036.95\" cy=\"445.406\" r=\"14.4\" fill=\"#009af9\" fill-rule=\"evenodd\" fill-opacity=\"1\" stroke=\"#000000\" stroke-opacity=\"1\" stroke-width=\"3.2\"/>\n<circle clip-path=\"url(#clip672)\" cx=\"2058.05\" cy=\"314.73\" r=\"14.4\" fill=\"#009af9\" fill-rule=\"evenodd\" fill-opacity=\"1\" stroke=\"#000000\" stroke-opacity=\"1\" stroke-width=\"3.2\"/>\n<circle clip-path=\"url(#clip672)\" cx=\"2079.14\" cy=\"304.974\" r=\"14.4\" fill=\"#009af9\" fill-rule=\"evenodd\" fill-opacity=\"1\" stroke=\"#000000\" stroke-opacity=\"1\" stroke-width=\"3.2\"/>\n<circle clip-path=\"url(#clip672)\" cx=\"2100.24\" cy=\"406.229\" r=\"14.4\" fill=\"#009af9\" fill-rule=\"evenodd\" fill-opacity=\"1\" stroke=\"#000000\" stroke-opacity=\"1\" stroke-width=\"3.2\"/>\n<circle clip-path=\"url(#clip672)\" cx=\"2121.33\" cy=\"539.677\" r=\"14.4\" fill=\"#009af9\" fill-rule=\"evenodd\" fill-opacity=\"1\" stroke=\"#000000\" stroke-opacity=\"1\" stroke-width=\"3.2\"/>\n<circle clip-path=\"url(#clip672)\" cx=\"2142.43\" cy=\"606.322\" r=\"14.4\" fill=\"#009af9\" fill-rule=\"evenodd\" fill-opacity=\"1\" stroke=\"#000000\" stroke-opacity=\"1\" stroke-width=\"3.2\"/>\n<circle clip-path=\"url(#clip672)\" cx=\"2163.53\" cy=\"548.19\" r=\"14.4\" fill=\"#009af9\" fill-rule=\"evenodd\" fill-opacity=\"1\" stroke=\"#000000\" stroke-opacity=\"1\" stroke-width=\"3.2\"/>\n<circle clip-path=\"url(#clip672)\" cx=\"2184.62\" cy=\"384.171\" r=\"14.4\" fill=\"#009af9\" fill-rule=\"evenodd\" fill-opacity=\"1\" stroke=\"#000000\" stroke-opacity=\"1\" stroke-width=\"3.2\"/>\n<circle clip-path=\"url(#clip672)\" cx=\"2205.72\" cy=\"198.339\" r=\"14.4\" fill=\"#009af9\" fill-rule=\"evenodd\" fill-opacity=\"1\" stroke=\"#000000\" stroke-opacity=\"1\" stroke-width=\"3.2\"/>\n<circle clip-path=\"url(#clip672)\" cx=\"2226.81\" cy=\"87.9763\" r=\"14.4\" fill=\"#009af9\" fill-rule=\"evenodd\" fill-opacity=\"1\" stroke=\"#000000\" stroke-opacity=\"1\" stroke-width=\"3.2\"/>\n<circle clip-path=\"url(#clip672)\" cx=\"2247.91\" cy=\"103.433\" r=\"14.4\" fill=\"#009af9\" fill-rule=\"evenodd\" fill-opacity=\"1\" stroke=\"#000000\" stroke-opacity=\"1\" stroke-width=\"3.2\"/>\n<circle clip-path=\"url(#clip672)\" cx=\"2269.01\" cy=\"216.995\" r=\"14.4\" fill=\"#009af9\" fill-rule=\"evenodd\" fill-opacity=\"1\" stroke=\"#000000\" stroke-opacity=\"1\" stroke-width=\"3.2\"/>\n<circle clip-path=\"url(#clip672)\" cx=\"2290.1\" cy=\"340.023\" r=\"14.4\" fill=\"#009af9\" fill-rule=\"evenodd\" fill-opacity=\"1\" stroke=\"#000000\" stroke-opacity=\"1\" stroke-width=\"3.2\"/>\n<polyline clip-path=\"url(#clip672)\" style=\"stroke:#e26f46; stroke-linecap:round; stroke-linejoin:round; stroke-width:4; stroke-opacity:1; fill:none\" points=\"\n  201.614,1030.42 222.71,1043.62 243.806,1056.41 264.902,1068.77 285.997,1080.72 307.093,1092.25 328.189,1103.36 349.285,1114.05 370.381,1124.31 391.477,1134.16 \n  412.572,1143.58 433.668,1152.57 454.764,1161.14 475.86,1169.29 496.956,1177.01 518.052,1184.3 539.147,1191.16 560.243,1197.59 581.339,1203.59 602.435,1209.17 \n  623.531,1214.31 644.627,1219.02 665.722,1223.3 686.818,1227.14 707.914,1230.55 729.01,1233.52 750.106,1236.06 771.201,1238.16 792.297,1239.82 813.393,1241.04 \n  834.489,1241.83 855.585,1242.17 876.681,1242.08 897.776,1241.54 918.872,1240.56 939.968,1239.13 961.064,1237.27 982.16,1234.95 1003.26,1232.2 1024.35,1228.99 \n  1045.45,1225.34 1066.54,1221.24 1087.64,1216.69 1108.73,1211.69 1129.83,1206.25 1150.93,1200.35 1172.02,1194 1193.12,1187.19 1214.21,1179.94 1235.31,1172.22 \n  1256.41,1164.06 1277.5,1155.44 1298.6,1146.36 1319.69,1136.82 1340.79,1126.83 1361.88,1116.37 1382.98,1105.46 1404.08,1094.08 1425.17,1082.25 1446.27,1069.95 \n  1467.36,1057.19 1488.46,1043.97 1509.56,1030.28 1530.65,1016.13 1551.75,1001.51 1572.84,986.418 1593.94,970.864 1615.03,954.841 1636.13,938.348 1657.23,921.386 \n  1678.32,903.953 1699.42,886.048 1720.51,867.67 1741.61,848.82 1762.71,829.496 1783.8,809.696 1804.9,789.421 1825.99,768.67 1847.09,747.442 1868.18,725.736 \n  1889.28,703.551 1910.38,680.886 1931.47,657.741 1952.57,634.115 1973.66,610.007 1994.76,585.417 2015.86,560.343 2036.95,534.784 2058.05,508.741 2079.14,482.212 \n  2100.24,455.196 2121.33,427.693 2142.43,399.701 2163.53,371.221 2184.62,342.251 2205.72,312.79 2226.81,282.838 2247.91,252.394 2269.01,221.456 2290.1,190.025 \n  \n  \"/>\n<circle clip-path=\"url(#clip672)\" cx=\"201.614\" cy=\"1030.42\" r=\"14.4\" fill=\"#e26f46\" fill-rule=\"evenodd\" fill-opacity=\"1\" stroke=\"#000000\" stroke-opacity=\"1\" stroke-width=\"3.2\"/>\n<circle clip-path=\"url(#clip672)\" cx=\"222.71\" cy=\"1043.62\" r=\"14.4\" fill=\"#e26f46\" fill-rule=\"evenodd\" fill-opacity=\"1\" stroke=\"#000000\" stroke-opacity=\"1\" stroke-width=\"3.2\"/>\n<circle clip-path=\"url(#clip672)\" cx=\"243.806\" cy=\"1056.41\" r=\"14.4\" fill=\"#e26f46\" fill-rule=\"evenodd\" fill-opacity=\"1\" stroke=\"#000000\" stroke-opacity=\"1\" stroke-width=\"3.2\"/>\n<circle clip-path=\"url(#clip672)\" cx=\"264.902\" cy=\"1068.77\" r=\"14.4\" fill=\"#e26f46\" fill-rule=\"evenodd\" fill-opacity=\"1\" stroke=\"#000000\" stroke-opacity=\"1\" stroke-width=\"3.2\"/>\n<circle clip-path=\"url(#clip672)\" cx=\"285.997\" cy=\"1080.72\" r=\"14.4\" fill=\"#e26f46\" fill-rule=\"evenodd\" fill-opacity=\"1\" stroke=\"#000000\" stroke-opacity=\"1\" stroke-width=\"3.2\"/>\n<circle clip-path=\"url(#clip672)\" cx=\"307.093\" cy=\"1092.25\" r=\"14.4\" fill=\"#e26f46\" fill-rule=\"evenodd\" fill-opacity=\"1\" stroke=\"#000000\" stroke-opacity=\"1\" stroke-width=\"3.2\"/>\n<circle clip-path=\"url(#clip672)\" cx=\"328.189\" cy=\"1103.36\" r=\"14.4\" fill=\"#e26f46\" fill-rule=\"evenodd\" fill-opacity=\"1\" stroke=\"#000000\" stroke-opacity=\"1\" stroke-width=\"3.2\"/>\n<circle clip-path=\"url(#clip672)\" cx=\"349.285\" cy=\"1114.05\" r=\"14.4\" fill=\"#e26f46\" fill-rule=\"evenodd\" fill-opacity=\"1\" stroke=\"#000000\" stroke-opacity=\"1\" stroke-width=\"3.2\"/>\n<circle clip-path=\"url(#clip672)\" cx=\"370.381\" cy=\"1124.31\" r=\"14.4\" fill=\"#e26f46\" fill-rule=\"evenodd\" fill-opacity=\"1\" stroke=\"#000000\" stroke-opacity=\"1\" stroke-width=\"3.2\"/>\n<circle clip-path=\"url(#clip672)\" cx=\"391.477\" cy=\"1134.16\" r=\"14.4\" fill=\"#e26f46\" fill-rule=\"evenodd\" fill-opacity=\"1\" stroke=\"#000000\" stroke-opacity=\"1\" stroke-width=\"3.2\"/>\n<circle clip-path=\"url(#clip672)\" cx=\"412.572\" cy=\"1143.58\" r=\"14.4\" fill=\"#e26f46\" fill-rule=\"evenodd\" fill-opacity=\"1\" stroke=\"#000000\" stroke-opacity=\"1\" stroke-width=\"3.2\"/>\n<circle clip-path=\"url(#clip672)\" cx=\"433.668\" cy=\"1152.57\" r=\"14.4\" fill=\"#e26f46\" fill-rule=\"evenodd\" fill-opacity=\"1\" stroke=\"#000000\" stroke-opacity=\"1\" stroke-width=\"3.2\"/>\n<circle clip-path=\"url(#clip672)\" cx=\"454.764\" cy=\"1161.14\" r=\"14.4\" fill=\"#e26f46\" fill-rule=\"evenodd\" fill-opacity=\"1\" stroke=\"#000000\" stroke-opacity=\"1\" stroke-width=\"3.2\"/>\n<circle clip-path=\"url(#clip672)\" cx=\"475.86\" cy=\"1169.29\" r=\"14.4\" fill=\"#e26f46\" fill-rule=\"evenodd\" fill-opacity=\"1\" stroke=\"#000000\" stroke-opacity=\"1\" stroke-width=\"3.2\"/>\n<circle clip-path=\"url(#clip672)\" cx=\"496.956\" cy=\"1177.01\" r=\"14.4\" fill=\"#e26f46\" fill-rule=\"evenodd\" fill-opacity=\"1\" stroke=\"#000000\" stroke-opacity=\"1\" stroke-width=\"3.2\"/>\n<circle clip-path=\"url(#clip672)\" cx=\"518.052\" cy=\"1184.3\" r=\"14.4\" fill=\"#e26f46\" fill-rule=\"evenodd\" fill-opacity=\"1\" stroke=\"#000000\" stroke-opacity=\"1\" stroke-width=\"3.2\"/>\n<circle clip-path=\"url(#clip672)\" cx=\"539.147\" cy=\"1191.16\" r=\"14.4\" fill=\"#e26f46\" fill-rule=\"evenodd\" fill-opacity=\"1\" stroke=\"#000000\" stroke-opacity=\"1\" stroke-width=\"3.2\"/>\n<circle clip-path=\"url(#clip672)\" cx=\"560.243\" cy=\"1197.59\" r=\"14.4\" fill=\"#e26f46\" fill-rule=\"evenodd\" fill-opacity=\"1\" stroke=\"#000000\" stroke-opacity=\"1\" stroke-width=\"3.2\"/>\n<circle clip-path=\"url(#clip672)\" cx=\"581.339\" cy=\"1203.59\" r=\"14.4\" fill=\"#e26f46\" fill-rule=\"evenodd\" fill-opacity=\"1\" stroke=\"#000000\" stroke-opacity=\"1\" stroke-width=\"3.2\"/>\n<circle clip-path=\"url(#clip672)\" cx=\"602.435\" cy=\"1209.17\" r=\"14.4\" fill=\"#e26f46\" fill-rule=\"evenodd\" fill-opacity=\"1\" stroke=\"#000000\" stroke-opacity=\"1\" stroke-width=\"3.2\"/>\n<circle clip-path=\"url(#clip672)\" cx=\"623.531\" cy=\"1214.31\" r=\"14.4\" fill=\"#e26f46\" fill-rule=\"evenodd\" fill-opacity=\"1\" stroke=\"#000000\" stroke-opacity=\"1\" stroke-width=\"3.2\"/>\n<circle clip-path=\"url(#clip672)\" cx=\"644.627\" cy=\"1219.02\" r=\"14.4\" fill=\"#e26f46\" fill-rule=\"evenodd\" fill-opacity=\"1\" stroke=\"#000000\" stroke-opacity=\"1\" stroke-width=\"3.2\"/>\n<circle clip-path=\"url(#clip672)\" cx=\"665.722\" cy=\"1223.3\" r=\"14.4\" fill=\"#e26f46\" fill-rule=\"evenodd\" fill-opacity=\"1\" stroke=\"#000000\" stroke-opacity=\"1\" stroke-width=\"3.2\"/>\n<circle clip-path=\"url(#clip672)\" cx=\"686.818\" cy=\"1227.14\" r=\"14.4\" fill=\"#e26f46\" fill-rule=\"evenodd\" fill-opacity=\"1\" stroke=\"#000000\" stroke-opacity=\"1\" stroke-width=\"3.2\"/>\n<circle clip-path=\"url(#clip672)\" cx=\"707.914\" cy=\"1230.55\" r=\"14.4\" fill=\"#e26f46\" fill-rule=\"evenodd\" fill-opacity=\"1\" stroke=\"#000000\" stroke-opacity=\"1\" stroke-width=\"3.2\"/>\n<circle clip-path=\"url(#clip672)\" cx=\"729.01\" cy=\"1233.52\" r=\"14.4\" fill=\"#e26f46\" fill-rule=\"evenodd\" fill-opacity=\"1\" stroke=\"#000000\" stroke-opacity=\"1\" stroke-width=\"3.2\"/>\n<circle clip-path=\"url(#clip672)\" cx=\"750.106\" cy=\"1236.06\" r=\"14.4\" fill=\"#e26f46\" fill-rule=\"evenodd\" fill-opacity=\"1\" stroke=\"#000000\" stroke-opacity=\"1\" stroke-width=\"3.2\"/>\n<circle clip-path=\"url(#clip672)\" cx=\"771.201\" cy=\"1238.16\" r=\"14.4\" fill=\"#e26f46\" fill-rule=\"evenodd\" fill-opacity=\"1\" stroke=\"#000000\" stroke-opacity=\"1\" stroke-width=\"3.2\"/>\n<circle clip-path=\"url(#clip672)\" cx=\"792.297\" cy=\"1239.82\" r=\"14.4\" fill=\"#e26f46\" fill-rule=\"evenodd\" fill-opacity=\"1\" stroke=\"#000000\" stroke-opacity=\"1\" stroke-width=\"3.2\"/>\n<circle clip-path=\"url(#clip672)\" cx=\"813.393\" cy=\"1241.04\" r=\"14.4\" fill=\"#e26f46\" fill-rule=\"evenodd\" fill-opacity=\"1\" stroke=\"#000000\" stroke-opacity=\"1\" stroke-width=\"3.2\"/>\n<circle clip-path=\"url(#clip672)\" cx=\"834.489\" cy=\"1241.83\" r=\"14.4\" fill=\"#e26f46\" fill-rule=\"evenodd\" fill-opacity=\"1\" stroke=\"#000000\" stroke-opacity=\"1\" stroke-width=\"3.2\"/>\n<circle clip-path=\"url(#clip672)\" cx=\"855.585\" cy=\"1242.17\" r=\"14.4\" fill=\"#e26f46\" fill-rule=\"evenodd\" fill-opacity=\"1\" stroke=\"#000000\" stroke-opacity=\"1\" stroke-width=\"3.2\"/>\n<circle clip-path=\"url(#clip672)\" cx=\"876.681\" cy=\"1242.08\" r=\"14.4\" fill=\"#e26f46\" fill-rule=\"evenodd\" fill-opacity=\"1\" stroke=\"#000000\" stroke-opacity=\"1\" stroke-width=\"3.2\"/>\n<circle clip-path=\"url(#clip672)\" cx=\"897.776\" cy=\"1241.54\" r=\"14.4\" fill=\"#e26f46\" fill-rule=\"evenodd\" fill-opacity=\"1\" stroke=\"#000000\" stroke-opacity=\"1\" stroke-width=\"3.2\"/>\n<circle clip-path=\"url(#clip672)\" cx=\"918.872\" cy=\"1240.56\" r=\"14.4\" fill=\"#e26f46\" fill-rule=\"evenodd\" fill-opacity=\"1\" stroke=\"#000000\" stroke-opacity=\"1\" stroke-width=\"3.2\"/>\n<circle clip-path=\"url(#clip672)\" cx=\"939.968\" cy=\"1239.13\" r=\"14.4\" fill=\"#e26f46\" fill-rule=\"evenodd\" fill-opacity=\"1\" stroke=\"#000000\" stroke-opacity=\"1\" stroke-width=\"3.2\"/>\n<circle clip-path=\"url(#clip672)\" cx=\"961.064\" cy=\"1237.27\" r=\"14.4\" fill=\"#e26f46\" fill-rule=\"evenodd\" fill-opacity=\"1\" stroke=\"#000000\" stroke-opacity=\"1\" stroke-width=\"3.2\"/>\n<circle clip-path=\"url(#clip672)\" cx=\"982.16\" cy=\"1234.95\" r=\"14.4\" fill=\"#e26f46\" fill-rule=\"evenodd\" fill-opacity=\"1\" stroke=\"#000000\" stroke-opacity=\"1\" stroke-width=\"3.2\"/>\n<circle clip-path=\"url(#clip672)\" cx=\"1003.26\" cy=\"1232.2\" r=\"14.4\" fill=\"#e26f46\" fill-rule=\"evenodd\" fill-opacity=\"1\" stroke=\"#000000\" stroke-opacity=\"1\" stroke-width=\"3.2\"/>\n<circle clip-path=\"url(#clip672)\" cx=\"1024.35\" cy=\"1228.99\" r=\"14.4\" fill=\"#e26f46\" fill-rule=\"evenodd\" fill-opacity=\"1\" stroke=\"#000000\" stroke-opacity=\"1\" stroke-width=\"3.2\"/>\n<circle clip-path=\"url(#clip672)\" cx=\"1045.45\" cy=\"1225.34\" r=\"14.4\" fill=\"#e26f46\" fill-rule=\"evenodd\" fill-opacity=\"1\" stroke=\"#000000\" stroke-opacity=\"1\" stroke-width=\"3.2\"/>\n<circle clip-path=\"url(#clip672)\" cx=\"1066.54\" cy=\"1221.24\" r=\"14.4\" fill=\"#e26f46\" fill-rule=\"evenodd\" fill-opacity=\"1\" stroke=\"#000000\" stroke-opacity=\"1\" stroke-width=\"3.2\"/>\n<circle clip-path=\"url(#clip672)\" cx=\"1087.64\" cy=\"1216.69\" r=\"14.4\" fill=\"#e26f46\" fill-rule=\"evenodd\" fill-opacity=\"1\" stroke=\"#000000\" stroke-opacity=\"1\" stroke-width=\"3.2\"/>\n<circle clip-path=\"url(#clip672)\" cx=\"1108.73\" cy=\"1211.69\" r=\"14.4\" fill=\"#e26f46\" fill-rule=\"evenodd\" fill-opacity=\"1\" stroke=\"#000000\" stroke-opacity=\"1\" stroke-width=\"3.2\"/>\n<circle clip-path=\"url(#clip672)\" cx=\"1129.83\" cy=\"1206.25\" r=\"14.4\" fill=\"#e26f46\" fill-rule=\"evenodd\" fill-opacity=\"1\" stroke=\"#000000\" stroke-opacity=\"1\" stroke-width=\"3.2\"/>\n<circle clip-path=\"url(#clip672)\" cx=\"1150.93\" cy=\"1200.35\" r=\"14.4\" fill=\"#e26f46\" fill-rule=\"evenodd\" fill-opacity=\"1\" stroke=\"#000000\" stroke-opacity=\"1\" stroke-width=\"3.2\"/>\n<circle clip-path=\"url(#clip672)\" cx=\"1172.02\" cy=\"1194\" r=\"14.4\" fill=\"#e26f46\" fill-rule=\"evenodd\" fill-opacity=\"1\" stroke=\"#000000\" stroke-opacity=\"1\" stroke-width=\"3.2\"/>\n<circle clip-path=\"url(#clip672)\" cx=\"1193.12\" cy=\"1187.19\" r=\"14.4\" fill=\"#e26f46\" fill-rule=\"evenodd\" fill-opacity=\"1\" stroke=\"#000000\" stroke-opacity=\"1\" stroke-width=\"3.2\"/>\n<circle clip-path=\"url(#clip672)\" cx=\"1214.21\" cy=\"1179.94\" r=\"14.4\" fill=\"#e26f46\" fill-rule=\"evenodd\" fill-opacity=\"1\" stroke=\"#000000\" stroke-opacity=\"1\" stroke-width=\"3.2\"/>\n<circle clip-path=\"url(#clip672)\" cx=\"1235.31\" cy=\"1172.22\" r=\"14.4\" fill=\"#e26f46\" fill-rule=\"evenodd\" fill-opacity=\"1\" stroke=\"#000000\" stroke-opacity=\"1\" stroke-width=\"3.2\"/>\n<circle clip-path=\"url(#clip672)\" cx=\"1256.41\" cy=\"1164.06\" r=\"14.4\" fill=\"#e26f46\" fill-rule=\"evenodd\" fill-opacity=\"1\" stroke=\"#000000\" stroke-opacity=\"1\" stroke-width=\"3.2\"/>\n<circle clip-path=\"url(#clip672)\" cx=\"1277.5\" cy=\"1155.44\" r=\"14.4\" fill=\"#e26f46\" fill-rule=\"evenodd\" fill-opacity=\"1\" stroke=\"#000000\" stroke-opacity=\"1\" stroke-width=\"3.2\"/>\n<circle clip-path=\"url(#clip672)\" cx=\"1298.6\" cy=\"1146.36\" r=\"14.4\" fill=\"#e26f46\" fill-rule=\"evenodd\" fill-opacity=\"1\" stroke=\"#000000\" stroke-opacity=\"1\" stroke-width=\"3.2\"/>\n<circle clip-path=\"url(#clip672)\" cx=\"1319.69\" cy=\"1136.82\" r=\"14.4\" fill=\"#e26f46\" fill-rule=\"evenodd\" fill-opacity=\"1\" stroke=\"#000000\" stroke-opacity=\"1\" stroke-width=\"3.2\"/>\n<circle clip-path=\"url(#clip672)\" cx=\"1340.79\" cy=\"1126.83\" r=\"14.4\" fill=\"#e26f46\" fill-rule=\"evenodd\" fill-opacity=\"1\" stroke=\"#000000\" stroke-opacity=\"1\" stroke-width=\"3.2\"/>\n<circle clip-path=\"url(#clip672)\" cx=\"1361.88\" cy=\"1116.37\" r=\"14.4\" fill=\"#e26f46\" fill-rule=\"evenodd\" fill-opacity=\"1\" stroke=\"#000000\" stroke-opacity=\"1\" stroke-width=\"3.2\"/>\n<circle clip-path=\"url(#clip672)\" cx=\"1382.98\" cy=\"1105.46\" r=\"14.4\" fill=\"#e26f46\" fill-rule=\"evenodd\" fill-opacity=\"1\" stroke=\"#000000\" stroke-opacity=\"1\" stroke-width=\"3.2\"/>\n<circle clip-path=\"url(#clip672)\" cx=\"1404.08\" cy=\"1094.08\" r=\"14.4\" fill=\"#e26f46\" fill-rule=\"evenodd\" fill-opacity=\"1\" stroke=\"#000000\" stroke-opacity=\"1\" stroke-width=\"3.2\"/>\n<circle clip-path=\"url(#clip672)\" cx=\"1425.17\" cy=\"1082.25\" r=\"14.4\" fill=\"#e26f46\" fill-rule=\"evenodd\" fill-opacity=\"1\" stroke=\"#000000\" stroke-opacity=\"1\" stroke-width=\"3.2\"/>\n<circle clip-path=\"url(#clip672)\" cx=\"1446.27\" cy=\"1069.95\" r=\"14.4\" fill=\"#e26f46\" fill-rule=\"evenodd\" fill-opacity=\"1\" stroke=\"#000000\" stroke-opacity=\"1\" stroke-width=\"3.2\"/>\n<circle clip-path=\"url(#clip672)\" cx=\"1467.36\" cy=\"1057.19\" r=\"14.4\" fill=\"#e26f46\" fill-rule=\"evenodd\" fill-opacity=\"1\" stroke=\"#000000\" stroke-opacity=\"1\" stroke-width=\"3.2\"/>\n<circle clip-path=\"url(#clip672)\" cx=\"1488.46\" cy=\"1043.97\" r=\"14.4\" fill=\"#e26f46\" fill-rule=\"evenodd\" fill-opacity=\"1\" stroke=\"#000000\" stroke-opacity=\"1\" stroke-width=\"3.2\"/>\n<circle clip-path=\"url(#clip672)\" cx=\"1509.56\" cy=\"1030.28\" r=\"14.4\" fill=\"#e26f46\" fill-rule=\"evenodd\" fill-opacity=\"1\" stroke=\"#000000\" stroke-opacity=\"1\" stroke-width=\"3.2\"/>\n<circle clip-path=\"url(#clip672)\" cx=\"1530.65\" cy=\"1016.13\" r=\"14.4\" fill=\"#e26f46\" fill-rule=\"evenodd\" fill-opacity=\"1\" stroke=\"#000000\" stroke-opacity=\"1\" stroke-width=\"3.2\"/>\n<circle clip-path=\"url(#clip672)\" cx=\"1551.75\" cy=\"1001.51\" r=\"14.4\" fill=\"#e26f46\" fill-rule=\"evenodd\" fill-opacity=\"1\" stroke=\"#000000\" stroke-opacity=\"1\" stroke-width=\"3.2\"/>\n<circle clip-path=\"url(#clip672)\" cx=\"1572.84\" cy=\"986.418\" r=\"14.4\" fill=\"#e26f46\" fill-rule=\"evenodd\" fill-opacity=\"1\" stroke=\"#000000\" stroke-opacity=\"1\" stroke-width=\"3.2\"/>\n<circle clip-path=\"url(#clip672)\" cx=\"1593.94\" cy=\"970.864\" r=\"14.4\" fill=\"#e26f46\" fill-rule=\"evenodd\" fill-opacity=\"1\" stroke=\"#000000\" stroke-opacity=\"1\" stroke-width=\"3.2\"/>\n<circle clip-path=\"url(#clip672)\" cx=\"1615.03\" cy=\"954.841\" r=\"14.4\" fill=\"#e26f46\" fill-rule=\"evenodd\" fill-opacity=\"1\" stroke=\"#000000\" stroke-opacity=\"1\" stroke-width=\"3.2\"/>\n<circle clip-path=\"url(#clip672)\" cx=\"1636.13\" cy=\"938.348\" r=\"14.4\" fill=\"#e26f46\" fill-rule=\"evenodd\" fill-opacity=\"1\" stroke=\"#000000\" stroke-opacity=\"1\" stroke-width=\"3.2\"/>\n<circle clip-path=\"url(#clip672)\" cx=\"1657.23\" cy=\"921.386\" r=\"14.4\" fill=\"#e26f46\" fill-rule=\"evenodd\" fill-opacity=\"1\" stroke=\"#000000\" stroke-opacity=\"1\" stroke-width=\"3.2\"/>\n<circle clip-path=\"url(#clip672)\" cx=\"1678.32\" cy=\"903.953\" r=\"14.4\" fill=\"#e26f46\" fill-rule=\"evenodd\" fill-opacity=\"1\" stroke=\"#000000\" stroke-opacity=\"1\" stroke-width=\"3.2\"/>\n<circle clip-path=\"url(#clip672)\" cx=\"1699.42\" cy=\"886.048\" r=\"14.4\" fill=\"#e26f46\" fill-rule=\"evenodd\" fill-opacity=\"1\" stroke=\"#000000\" stroke-opacity=\"1\" stroke-width=\"3.2\"/>\n<circle clip-path=\"url(#clip672)\" cx=\"1720.51\" cy=\"867.67\" r=\"14.4\" fill=\"#e26f46\" fill-rule=\"evenodd\" fill-opacity=\"1\" stroke=\"#000000\" stroke-opacity=\"1\" stroke-width=\"3.2\"/>\n<circle clip-path=\"url(#clip672)\" cx=\"1741.61\" cy=\"848.82\" r=\"14.4\" fill=\"#e26f46\" fill-rule=\"evenodd\" fill-opacity=\"1\" stroke=\"#000000\" stroke-opacity=\"1\" stroke-width=\"3.2\"/>\n<circle clip-path=\"url(#clip672)\" cx=\"1762.71\" cy=\"829.496\" r=\"14.4\" fill=\"#e26f46\" fill-rule=\"evenodd\" fill-opacity=\"1\" stroke=\"#000000\" stroke-opacity=\"1\" stroke-width=\"3.2\"/>\n<circle clip-path=\"url(#clip672)\" cx=\"1783.8\" cy=\"809.696\" r=\"14.4\" fill=\"#e26f46\" fill-rule=\"evenodd\" fill-opacity=\"1\" stroke=\"#000000\" stroke-opacity=\"1\" stroke-width=\"3.2\"/>\n<circle clip-path=\"url(#clip672)\" cx=\"1804.9\" cy=\"789.421\" r=\"14.4\" fill=\"#e26f46\" fill-rule=\"evenodd\" fill-opacity=\"1\" stroke=\"#000000\" stroke-opacity=\"1\" stroke-width=\"3.2\"/>\n<circle clip-path=\"url(#clip672)\" cx=\"1825.99\" cy=\"768.67\" r=\"14.4\" fill=\"#e26f46\" fill-rule=\"evenodd\" fill-opacity=\"1\" stroke=\"#000000\" stroke-opacity=\"1\" stroke-width=\"3.2\"/>\n<circle clip-path=\"url(#clip672)\" cx=\"1847.09\" cy=\"747.442\" r=\"14.4\" fill=\"#e26f46\" fill-rule=\"evenodd\" fill-opacity=\"1\" stroke=\"#000000\" stroke-opacity=\"1\" stroke-width=\"3.2\"/>\n<circle clip-path=\"url(#clip672)\" cx=\"1868.18\" cy=\"725.736\" r=\"14.4\" fill=\"#e26f46\" fill-rule=\"evenodd\" fill-opacity=\"1\" stroke=\"#000000\" stroke-opacity=\"1\" stroke-width=\"3.2\"/>\n<circle clip-path=\"url(#clip672)\" cx=\"1889.28\" cy=\"703.551\" r=\"14.4\" fill=\"#e26f46\" fill-rule=\"evenodd\" fill-opacity=\"1\" stroke=\"#000000\" stroke-opacity=\"1\" stroke-width=\"3.2\"/>\n<circle clip-path=\"url(#clip672)\" cx=\"1910.38\" cy=\"680.886\" r=\"14.4\" fill=\"#e26f46\" fill-rule=\"evenodd\" fill-opacity=\"1\" stroke=\"#000000\" stroke-opacity=\"1\" stroke-width=\"3.2\"/>\n<circle clip-path=\"url(#clip672)\" cx=\"1931.47\" cy=\"657.741\" r=\"14.4\" fill=\"#e26f46\" fill-rule=\"evenodd\" fill-opacity=\"1\" stroke=\"#000000\" stroke-opacity=\"1\" stroke-width=\"3.2\"/>\n<circle clip-path=\"url(#clip672)\" cx=\"1952.57\" cy=\"634.115\" r=\"14.4\" fill=\"#e26f46\" fill-rule=\"evenodd\" fill-opacity=\"1\" stroke=\"#000000\" stroke-opacity=\"1\" stroke-width=\"3.2\"/>\n<circle clip-path=\"url(#clip672)\" cx=\"1973.66\" cy=\"610.007\" r=\"14.4\" fill=\"#e26f46\" fill-rule=\"evenodd\" fill-opacity=\"1\" stroke=\"#000000\" stroke-opacity=\"1\" stroke-width=\"3.2\"/>\n<circle clip-path=\"url(#clip672)\" cx=\"1994.76\" cy=\"585.417\" r=\"14.4\" fill=\"#e26f46\" fill-rule=\"evenodd\" fill-opacity=\"1\" stroke=\"#000000\" stroke-opacity=\"1\" stroke-width=\"3.2\"/>\n<circle clip-path=\"url(#clip672)\" cx=\"2015.86\" cy=\"560.343\" r=\"14.4\" fill=\"#e26f46\" fill-rule=\"evenodd\" fill-opacity=\"1\" stroke=\"#000000\" stroke-opacity=\"1\" stroke-width=\"3.2\"/>\n<circle clip-path=\"url(#clip672)\" cx=\"2036.95\" cy=\"534.784\" r=\"14.4\" fill=\"#e26f46\" fill-rule=\"evenodd\" fill-opacity=\"1\" stroke=\"#000000\" stroke-opacity=\"1\" stroke-width=\"3.2\"/>\n<circle clip-path=\"url(#clip672)\" cx=\"2058.05\" cy=\"508.741\" r=\"14.4\" fill=\"#e26f46\" fill-rule=\"evenodd\" fill-opacity=\"1\" stroke=\"#000000\" stroke-opacity=\"1\" stroke-width=\"3.2\"/>\n<circle clip-path=\"url(#clip672)\" cx=\"2079.14\" cy=\"482.212\" r=\"14.4\" fill=\"#e26f46\" fill-rule=\"evenodd\" fill-opacity=\"1\" stroke=\"#000000\" stroke-opacity=\"1\" stroke-width=\"3.2\"/>\n<circle clip-path=\"url(#clip672)\" cx=\"2100.24\" cy=\"455.196\" r=\"14.4\" fill=\"#e26f46\" fill-rule=\"evenodd\" fill-opacity=\"1\" stroke=\"#000000\" stroke-opacity=\"1\" stroke-width=\"3.2\"/>\n<circle clip-path=\"url(#clip672)\" cx=\"2121.33\" cy=\"427.693\" r=\"14.4\" fill=\"#e26f46\" fill-rule=\"evenodd\" fill-opacity=\"1\" stroke=\"#000000\" stroke-opacity=\"1\" stroke-width=\"3.2\"/>\n<circle clip-path=\"url(#clip672)\" cx=\"2142.43\" cy=\"399.701\" r=\"14.4\" fill=\"#e26f46\" fill-rule=\"evenodd\" fill-opacity=\"1\" stroke=\"#000000\" stroke-opacity=\"1\" stroke-width=\"3.2\"/>\n<circle clip-path=\"url(#clip672)\" cx=\"2163.53\" cy=\"371.221\" r=\"14.4\" fill=\"#e26f46\" fill-rule=\"evenodd\" fill-opacity=\"1\" stroke=\"#000000\" stroke-opacity=\"1\" stroke-width=\"3.2\"/>\n<circle clip-path=\"url(#clip672)\" cx=\"2184.62\" cy=\"342.251\" r=\"14.4\" fill=\"#e26f46\" fill-rule=\"evenodd\" fill-opacity=\"1\" stroke=\"#000000\" stroke-opacity=\"1\" stroke-width=\"3.2\"/>\n<circle clip-path=\"url(#clip672)\" cx=\"2205.72\" cy=\"312.79\" r=\"14.4\" fill=\"#e26f46\" fill-rule=\"evenodd\" fill-opacity=\"1\" stroke=\"#000000\" stroke-opacity=\"1\" stroke-width=\"3.2\"/>\n<circle clip-path=\"url(#clip672)\" cx=\"2226.81\" cy=\"282.838\" r=\"14.4\" fill=\"#e26f46\" fill-rule=\"evenodd\" fill-opacity=\"1\" stroke=\"#000000\" stroke-opacity=\"1\" stroke-width=\"3.2\"/>\n<circle clip-path=\"url(#clip672)\" cx=\"2247.91\" cy=\"252.394\" r=\"14.4\" fill=\"#e26f46\" fill-rule=\"evenodd\" fill-opacity=\"1\" stroke=\"#000000\" stroke-opacity=\"1\" stroke-width=\"3.2\"/>\n<circle clip-path=\"url(#clip672)\" cx=\"2269.01\" cy=\"221.456\" r=\"14.4\" fill=\"#e26f46\" fill-rule=\"evenodd\" fill-opacity=\"1\" stroke=\"#000000\" stroke-opacity=\"1\" stroke-width=\"3.2\"/>\n<circle clip-path=\"url(#clip672)\" cx=\"2290.1\" cy=\"190.025\" r=\"14.4\" fill=\"#e26f46\" fill-rule=\"evenodd\" fill-opacity=\"1\" stroke=\"#000000\" stroke-opacity=\"1\" stroke-width=\"3.2\"/>\n<path clip-path=\"url(#clip670)\" d=\"\nM212.753 250.738 L677.904 250.738 L677.904 95.2176 L212.753 95.2176  Z\n  \" fill=\"#ffffff\" fill-rule=\"evenodd\" fill-opacity=\"1\"/>\n<polyline clip-path=\"url(#clip670)\" style=\"stroke:#000000; stroke-linecap:round; stroke-linejoin:round; stroke-width:4; stroke-opacity:1; fill:none\" points=\"\n  212.753,250.738 677.904,250.738 677.904,95.2176 212.753,95.2176 212.753,250.738 \n  \"/>\n<polyline clip-path=\"url(#clip670)\" style=\"stroke:#009af9; stroke-linecap:round; stroke-linejoin:round; stroke-width:4; stroke-opacity:1; fill:none\" points=\"\n  237.35,147.058 384.937,147.058 \n  \"/>\n<circle clip-path=\"url(#clip670)\" cx=\"311.144\" cy=\"147.058\" r=\"20.4981\" fill=\"#009af9\" fill-rule=\"evenodd\" fill-opacity=\"1\" stroke=\"#000000\" stroke-opacity=\"1\" stroke-width=\"5.12\"/>\n<path clip-path=\"url(#clip670)\" d=\"M414.21 133.62 L414.21 160.495 L419.859 160.495 Q427.011 160.495 430.321 157.254 Q433.655 154.014 433.655 147.023 Q433.655 140.078 430.321 136.861 Q427.011 133.62 419.859 133.62 L414.21 133.62 M409.535 129.778 L419.141 129.778 Q429.187 129.778 433.886 133.967 Q438.585 138.134 438.585 147.023 Q438.585 155.958 433.863 160.148 Q429.141 164.338 419.141 164.338 L409.535 164.338 L409.535 129.778 Z\" fill=\"#000000\" fill-rule=\"evenodd\" fill-opacity=\"1\" /><path clip-path=\"url(#clip670)\" d=\"M457.636 151.305 Q452.474 151.305 450.483 152.486 Q448.493 153.666 448.493 156.514 Q448.493 158.782 449.974 160.125 Q451.479 161.444 454.048 161.444 Q457.59 161.444 459.719 158.944 Q461.872 156.421 461.872 152.254 L461.872 151.305 L457.636 151.305 M466.131 149.546 L466.131 164.338 L461.872 164.338 L461.872 160.402 Q460.414 162.763 458.238 163.898 Q456.062 165.009 452.914 165.009 Q448.933 165.009 446.571 162.787 Q444.233 160.541 444.233 156.791 Q444.233 152.416 447.15 150.194 Q450.09 147.972 455.9 147.972 L461.872 147.972 L461.872 147.555 Q461.872 144.615 459.928 143.018 Q458.007 141.398 454.511 141.398 Q452.289 141.398 450.182 141.93 Q448.076 142.463 446.132 143.527 L446.132 139.592 Q448.47 138.69 450.669 138.25 Q452.868 137.787 454.951 137.787 Q460.576 137.787 463.354 140.703 Q466.131 143.62 466.131 149.546 Z\" fill=\"#000000\" fill-rule=\"evenodd\" fill-opacity=\"1\" /><path clip-path=\"url(#clip670)\" d=\"M479.118 131.051 L479.118 138.412 L487.891 138.412 L487.891 141.722 L479.118 141.722 L479.118 155.796 Q479.118 158.967 479.974 159.87 Q480.854 160.773 483.516 160.773 L487.891 160.773 L487.891 164.338 L483.516 164.338 Q478.585 164.338 476.71 162.509 Q474.835 160.657 474.835 155.796 L474.835 141.722 L471.71 141.722 L471.71 138.412 L474.835 138.412 L474.835 131.051 L479.118 131.051 Z\" fill=\"#000000\" fill-rule=\"evenodd\" fill-opacity=\"1\" /><path clip-path=\"url(#clip670)\" d=\"M505.275 151.305 Q500.113 151.305 498.122 152.486 Q496.131 153.666 496.131 156.514 Q496.131 158.782 497.613 160.125 Q499.117 161.444 501.687 161.444 Q505.228 161.444 507.358 158.944 Q509.511 156.421 509.511 152.254 L509.511 151.305 L505.275 151.305 M513.77 149.546 L513.77 164.338 L509.511 164.338 L509.511 160.402 Q508.053 162.763 505.877 163.898 Q503.701 165.009 500.553 165.009 Q496.571 165.009 494.21 162.787 Q491.872 160.541 491.872 156.791 Q491.872 152.416 494.789 150.194 Q497.729 147.972 503.539 147.972 L509.511 147.972 L509.511 147.555 Q509.511 144.615 507.566 143.018 Q505.645 141.398 502.15 141.398 Q499.928 141.398 497.821 141.93 Q495.715 142.463 493.77 143.527 L493.77 139.592 Q496.108 138.69 498.307 138.25 Q500.506 137.787 502.59 137.787 Q508.215 137.787 510.992 140.703 Q513.77 143.62 513.77 149.546 Z\" fill=\"#000000\" fill-rule=\"evenodd\" fill-opacity=\"1\" /><polyline clip-path=\"url(#clip670)\" style=\"stroke:#e26f46; stroke-linecap:round; stroke-linejoin:round; stroke-width:4; stroke-opacity:1; fill:none\" points=\"\n  237.35,198.898 384.937,198.898 \n  \"/>\n<circle clip-path=\"url(#clip670)\" cx=\"311.144\" cy=\"198.898\" r=\"20.4981\" fill=\"#e26f46\" fill-rule=\"evenodd\" fill-opacity=\"1\" stroke=\"#000000\" stroke-opacity=\"1\" stroke-width=\"5.12\"/>\n<path clip-path=\"url(#clip670)\" d=\"M409.535 181.618 L431.386 181.618 L431.386 185.553 L414.21 185.553 L414.21 195.784 L430.669 195.784 L430.669 199.719 L414.21 199.719 L414.21 212.242 L431.803 212.242 L431.803 216.178 L409.535 216.178 L409.535 181.618 Z\" fill=\"#000000\" fill-rule=\"evenodd\" fill-opacity=\"1\" /><path clip-path=\"url(#clip670)\" d=\"M455.831 191.016 L455.831 195.043 Q454.025 194.117 452.081 193.655 Q450.136 193.192 448.053 193.192 Q444.882 193.192 443.284 194.164 Q441.71 195.136 441.71 197.08 Q441.71 198.562 442.845 199.418 Q443.979 200.252 447.405 201.016 L448.863 201.34 Q453.4 202.312 455.298 204.094 Q457.219 205.854 457.219 209.025 Q457.219 212.636 454.349 214.742 Q451.502 216.849 446.502 216.849 Q444.419 216.849 442.15 216.432 Q439.905 216.039 437.405 215.228 L437.405 210.83 Q439.766 212.057 442.058 212.682 Q444.349 213.284 446.595 213.284 Q449.604 213.284 451.224 212.266 Q452.845 211.224 452.845 209.349 Q452.845 207.613 451.664 206.687 Q450.507 205.761 446.548 204.904 L445.067 204.557 Q441.108 203.724 439.349 202.011 Q437.59 200.275 437.59 197.266 Q437.59 193.608 440.183 191.618 Q442.775 189.627 447.544 189.627 Q449.905 189.627 451.988 189.974 Q454.071 190.321 455.831 191.016 Z\" fill=\"#000000\" fill-rule=\"evenodd\" fill-opacity=\"1\" /><path clip-path=\"url(#clip670)\" d=\"M468.215 182.891 L468.215 190.252 L476.988 190.252 L476.988 193.562 L468.215 193.562 L468.215 207.636 Q468.215 210.807 469.071 211.71 Q469.951 212.613 472.613 212.613 L476.988 212.613 L476.988 216.178 L472.613 216.178 Q467.682 216.178 465.807 214.349 Q463.932 212.497 463.932 207.636 L463.932 193.562 L460.807 193.562 L460.807 190.252 L463.932 190.252 L463.932 182.891 L468.215 182.891 Z\" fill=\"#000000\" fill-rule=\"evenodd\" fill-opacity=\"1\" /><path clip-path=\"url(#clip670)\" d=\"M482.59 190.252 L486.849 190.252 L486.849 216.178 L482.59 216.178 L482.59 190.252 M482.59 180.159 L486.849 180.159 L486.849 185.553 L482.59 185.553 L482.59 180.159 Z\" fill=\"#000000\" fill-rule=\"evenodd\" fill-opacity=\"1\" /><path clip-path=\"url(#clip670)\" d=\"M515.946 195.229 Q517.543 192.358 519.765 190.993 Q521.988 189.627 524.997 189.627 Q529.048 189.627 531.247 192.474 Q533.446 195.298 533.446 200.529 L533.446 216.178 L529.164 216.178 L529.164 200.668 Q529.164 196.942 527.844 195.136 Q526.525 193.33 523.816 193.33 Q520.506 193.33 518.585 195.53 Q516.664 197.729 516.664 201.525 L516.664 216.178 L512.381 216.178 L512.381 200.668 Q512.381 196.918 511.062 195.136 Q509.742 193.33 506.988 193.33 Q503.724 193.33 501.803 195.553 Q499.881 197.752 499.881 201.525 L499.881 216.178 L495.599 216.178 L495.599 190.252 L499.881 190.252 L499.881 194.28 Q501.34 191.895 503.377 190.761 Q505.414 189.627 508.215 189.627 Q511.039 189.627 513.006 191.062 Q514.997 192.497 515.946 195.229 Z\" fill=\"#000000\" fill-rule=\"evenodd\" fill-opacity=\"1\" /><path clip-path=\"url(#clip670)\" d=\"M553.724 203.145 Q548.562 203.145 546.571 204.326 Q544.58 205.506 544.58 208.354 Q544.58 210.622 546.062 211.965 Q547.566 213.284 550.136 213.284 Q553.677 213.284 555.807 210.784 Q557.96 208.261 557.96 204.094 L557.96 203.145 L553.724 203.145 M562.219 201.386 L562.219 216.178 L557.96 216.178 L557.96 212.242 Q556.501 214.603 554.325 215.738 Q552.15 216.849 549.001 216.849 Q545.02 216.849 542.659 214.627 Q540.321 212.381 540.321 208.631 Q540.321 204.256 543.238 202.034 Q546.177 199.812 551.988 199.812 L557.96 199.812 L557.96 199.395 Q557.96 196.455 556.015 194.858 Q554.094 193.238 550.599 193.238 Q548.376 193.238 546.27 193.77 Q544.163 194.303 542.219 195.367 L542.219 191.432 Q544.557 190.53 546.756 190.09 Q548.955 189.627 551.038 189.627 Q556.663 189.627 559.441 192.543 Q562.219 195.46 562.219 201.386 Z\" fill=\"#000000\" fill-rule=\"evenodd\" fill-opacity=\"1\" /><path clip-path=\"url(#clip670)\" d=\"M575.205 182.891 L575.205 190.252 L583.978 190.252 L583.978 193.562 L575.205 193.562 L575.205 207.636 Q575.205 210.807 576.061 211.71 Q576.941 212.613 579.603 212.613 L583.978 212.613 L583.978 216.178 L579.603 216.178 Q574.673 216.178 572.798 214.349 Q570.923 212.497 570.923 207.636 L570.923 193.562 L567.798 193.562 L567.798 190.252 L570.923 190.252 L570.923 182.891 L575.205 182.891 Z\" fill=\"#000000\" fill-rule=\"evenodd\" fill-opacity=\"1\" /><path clip-path=\"url(#clip670)\" d=\"M589.58 190.252 L593.839 190.252 L593.839 216.178 L589.58 216.178 L589.58 190.252 M589.58 180.159 L593.839 180.159 L593.839 185.553 L589.58 185.553 L589.58 180.159 Z\" fill=\"#000000\" fill-rule=\"evenodd\" fill-opacity=\"1\" /><path clip-path=\"url(#clip670)\" d=\"M612.797 193.238 Q609.371 193.238 607.381 195.923 Q605.39 198.585 605.39 203.238 Q605.39 207.891 607.358 210.576 Q609.348 213.238 612.797 213.238 Q616.2 213.238 618.191 210.553 Q620.182 207.867 620.182 203.238 Q620.182 198.631 618.191 195.946 Q616.2 193.238 612.797 193.238 M612.797 189.627 Q618.353 189.627 621.524 193.238 Q624.695 196.849 624.695 203.238 Q624.695 209.604 621.524 213.238 Q618.353 216.849 612.797 216.849 Q607.219 216.849 604.047 213.238 Q600.899 209.604 600.899 203.238 Q600.899 196.849 604.047 193.238 Q607.219 189.627 612.797 189.627 Z\" fill=\"#000000\" fill-rule=\"evenodd\" fill-opacity=\"1\" /><path clip-path=\"url(#clip670)\" d=\"M653.306 200.529 L653.306 216.178 L649.047 216.178 L649.047 200.668 Q649.047 196.988 647.612 195.159 Q646.177 193.33 643.306 193.33 Q639.857 193.33 637.867 195.53 Q635.876 197.729 635.876 201.525 L635.876 216.178 L631.594 216.178 L631.594 190.252 L635.876 190.252 L635.876 194.28 Q637.404 191.942 639.464 190.784 Q641.547 189.627 644.256 189.627 Q648.723 189.627 651.015 192.405 Q653.306 195.159 653.306 200.529 Z\" fill=\"#000000\" fill-rule=\"evenodd\" fill-opacity=\"1\" /></svg>\n"
     },
     "execution_count": 24,
     "metadata": {},
     "output_type": "execute_result"
    }
   ],
   "source": [
    "function train_batch!(xtest,ytest,model,loss,opt,nt)\n",
    "    for it=1:nt\n",
    "        data = make_random_batch(xtest,ytest,batchsize)\n",
    "        Flux.train!(loss, Flux.params(model),data, opt)\n",
    "        if it% 100 == 0\n",
    "            lossvalue = 0.0\n",
    "            for i=1:length(ytest)                \n",
    "                lossvalue += loss(xtest[:,i],ytest[i])\n",
    "            end\n",
    "            println(\"$(it)-th loss = \",lossvalue/length(y0))\n",
    "        end\n",
    "    end\n",
    "end\n",
    "\n",
    "batchsize = 20\n",
    "nt = 2000\n",
    "train_batch!(φ,y0,model,loss,opt,nt) #学習\n",
    "\n",
    "println(model.weight) #W\n",
    "println(model.bias) #b\n",
    "\n",
    "#Wとbを使って予測値を作る。\n",
    "ye = [model(φ[:,i])[1] for i=1:length(y0)]\n",
    "#以下はプロット。\n",
    "using Plots\n",
    "ENV[\"PLOTS_TEST\"] = \"true\"\n",
    "pls = plot(x0,[y0[:],ye[:]],marker=:circle,label=[\"Data\" \"Estimation\"])\n",
    "savefig(\"comparison_Flux.png\")\n",
    "plot(x0,[y0[:],ye[:]],marker=:circle,label=[\"Data\" \"Estimation\"])\n"
   ]
  },
  {
   "cell_type": "code",
   "execution_count": null,
   "metadata": {},
   "outputs": [],
   "source": []
  }
 ],
 "metadata": {
  "kernelspec": {
   "display_name": "Julia 1.8.3",
   "language": "julia",
   "name": "julia-1.8"
  },
  "language_info": {
   "file_extension": ".jl",
   "mimetype": "application/julia",
   "name": "julia",
   "version": "1.8.3"
  },
  "orig_nbformat": 4,
  "vscode": {
   "interpreter": {
    "hash": "3cdf9bb70e052ceb08a973761fc0a04ec806d2e591685550649c48aa8b1bdd4b"
   }
  }
 },
 "nbformat": 4,
 "nbformat_minor": 2
}
